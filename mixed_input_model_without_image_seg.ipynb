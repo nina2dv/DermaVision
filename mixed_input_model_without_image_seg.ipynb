{
 "cells": [
  {
   "cell_type": "code",
   "execution_count": 1,
   "id": "initial_id",
   "metadata": {
    "collapsed": true,
    "ExecuteTime": {
     "end_time": "2025-05-10T02:41:10.375673Z",
     "start_time": "2025-05-10T02:41:05.424953Z"
    }
   },
   "outputs": [
    {
     "name": "stderr",
     "output_type": "stream",
     "text": [
      "/Users/ninad/Projects/RBCSolveit/lib/python3.9/site-packages/urllib3/__init__.py:35: NotOpenSSLWarning: urllib3 v2 only supports OpenSSL 1.1.1+, currently the 'ssl' module is compiled with 'LibreSSL 2.8.3'. See: https://github.com/urllib3/urllib3/issues/3020\n",
      "  warnings.warn(\n"
     ]
    }
   ],
   "source": [
    "import os\n",
    "import numpy as np\n",
    "import pandas as pd\n",
    "import matplotlib.pyplot as plt\n",
    "import seaborn as sns\n",
    "from sklearn.model_selection import train_test_split\n",
    "from sklearn.preprocessing import StandardScaler, OneHotEncoder, LabelEncoder\n",
    "from sklearn.compose import ColumnTransformer\n",
    "from sklearn.pipeline import Pipeline\n",
    "from sklearn.impute import SimpleImputer\n",
    "\n",
    "import tensorflow as tf\n",
    "from tensorflow.keras.preprocessing.image import load_img, img_to_array\n",
    "from tensorflow.keras.models import Model, Sequential\n",
    "from tensorflow.keras.layers import Input, Dense, Dropout, Flatten\n",
    "from tensorflow.keras.layers import Conv2D, MaxPooling2D, BatchNormalization\n",
    "from tensorflow.keras.layers import Concatenate, GlobalAveragePooling2D\n",
    "from tensorflow.keras.applications import MobileNetV2\n",
    "from tensorflow.keras.optimizers import Adam\n",
    "from tensorflow.keras.callbacks import ModelCheckpoint, EarlyStopping"
   ]
  },
  {
   "cell_type": "code",
   "outputs": [],
   "source": [
    "np.random.seed(42)\n",
    "tf.random.set_seed(42)\n",
    "\n",
    "IMAGE_DIR = './ISIC-images'\n",
    "METADATA_PATH = './ISIC-images/metadata.csv'\n",
    "\n",
    "# Image dimensions\n",
    "IMG_WIDTH, IMG_HEIGHT = 224, 224"
   ],
   "metadata": {
    "collapsed": false,
    "ExecuteTime": {
     "end_time": "2025-05-10T02:41:10.382997Z",
     "start_time": "2025-05-10T02:41:10.378671Z"
    }
   },
   "id": "9b70863a6948d905",
   "execution_count": 2
  },
  {
   "cell_type": "code",
   "outputs": [
    {
     "name": "stdout",
     "output_type": "stream",
     "text": [
      "Total records: 2550\n"
     ]
    },
    {
     "data": {
      "text/plain": "        isic_id attribution copyright_license  acquisition_day  age_approx  \\\n0  ISIC_0009868   Anonymous              CC-0              NaN          70   \n1  ISIC_0009869   Anonymous              CC-0              NaN          40   \n2  ISIC_0009870   Anonymous              CC-0              NaN          40   \n3  ISIC_0009871   Anonymous              CC-0              NaN          45   \n4  ISIC_0009872   Anonymous              CC-0              NaN          50   \n\n  anatom_site_general anatom_site_special benign_malignant  \\\n0     posterior torso                 NaN        malignant   \n1     posterior torso                 NaN           benign   \n2     upper extremity                 NaN           benign   \n3     posterior torso                 NaN           benign   \n4           head/neck                 NaN           benign   \n\n   clin_size_long_diam_mm concomitant_biopsy  ...   image_type lesion_id  \\\n0                     4.0               True  ...  dermoscopic       NaN   \n1                     4.0               True  ...  dermoscopic       NaN   \n2                     3.0               True  ...  dermoscopic       NaN   \n3                     5.0               True  ...  dermoscopic       NaN   \n4                     3.0               True  ...  dermoscopic       NaN   \n\n  mel_class mel_thick_mm mel_ulcer melanocytic nevus_type  patient_id  \\\n0       NaN          NaN       NaN        True        NaN         NaN   \n1       NaN          NaN       NaN        True        NaN         NaN   \n2       NaN          NaN       NaN        True        NaN         NaN   \n3       NaN          NaN       NaN        True        NaN         NaN   \n4       NaN          NaN       NaN        True        NaN         NaN   \n\n  personal_hx_mm     sex  \n0          False  female  \n1           True  female  \n2           True  female  \n3          False    male  \n4          False  female  \n\n[5 rows x 29 columns]",
      "text/html": "<div>\n<style scoped>\n    .dataframe tbody tr th:only-of-type {\n        vertical-align: middle;\n    }\n\n    .dataframe tbody tr th {\n        vertical-align: top;\n    }\n\n    .dataframe thead th {\n        text-align: right;\n    }\n</style>\n<table border=\"1\" class=\"dataframe\">\n  <thead>\n    <tr style=\"text-align: right;\">\n      <th></th>\n      <th>isic_id</th>\n      <th>attribution</th>\n      <th>copyright_license</th>\n      <th>acquisition_day</th>\n      <th>age_approx</th>\n      <th>anatom_site_general</th>\n      <th>anatom_site_special</th>\n      <th>benign_malignant</th>\n      <th>clin_size_long_diam_mm</th>\n      <th>concomitant_biopsy</th>\n      <th>...</th>\n      <th>image_type</th>\n      <th>lesion_id</th>\n      <th>mel_class</th>\n      <th>mel_thick_mm</th>\n      <th>mel_ulcer</th>\n      <th>melanocytic</th>\n      <th>nevus_type</th>\n      <th>patient_id</th>\n      <th>personal_hx_mm</th>\n      <th>sex</th>\n    </tr>\n  </thead>\n  <tbody>\n    <tr>\n      <th>0</th>\n      <td>ISIC_0009868</td>\n      <td>Anonymous</td>\n      <td>CC-0</td>\n      <td>NaN</td>\n      <td>70</td>\n      <td>posterior torso</td>\n      <td>NaN</td>\n      <td>malignant</td>\n      <td>4.0</td>\n      <td>True</td>\n      <td>...</td>\n      <td>dermoscopic</td>\n      <td>NaN</td>\n      <td>NaN</td>\n      <td>NaN</td>\n      <td>NaN</td>\n      <td>True</td>\n      <td>NaN</td>\n      <td>NaN</td>\n      <td>False</td>\n      <td>female</td>\n    </tr>\n    <tr>\n      <th>1</th>\n      <td>ISIC_0009869</td>\n      <td>Anonymous</td>\n      <td>CC-0</td>\n      <td>NaN</td>\n      <td>40</td>\n      <td>posterior torso</td>\n      <td>NaN</td>\n      <td>benign</td>\n      <td>4.0</td>\n      <td>True</td>\n      <td>...</td>\n      <td>dermoscopic</td>\n      <td>NaN</td>\n      <td>NaN</td>\n      <td>NaN</td>\n      <td>NaN</td>\n      <td>True</td>\n      <td>NaN</td>\n      <td>NaN</td>\n      <td>True</td>\n      <td>female</td>\n    </tr>\n    <tr>\n      <th>2</th>\n      <td>ISIC_0009870</td>\n      <td>Anonymous</td>\n      <td>CC-0</td>\n      <td>NaN</td>\n      <td>40</td>\n      <td>upper extremity</td>\n      <td>NaN</td>\n      <td>benign</td>\n      <td>3.0</td>\n      <td>True</td>\n      <td>...</td>\n      <td>dermoscopic</td>\n      <td>NaN</td>\n      <td>NaN</td>\n      <td>NaN</td>\n      <td>NaN</td>\n      <td>True</td>\n      <td>NaN</td>\n      <td>NaN</td>\n      <td>True</td>\n      <td>female</td>\n    </tr>\n    <tr>\n      <th>3</th>\n      <td>ISIC_0009871</td>\n      <td>Anonymous</td>\n      <td>CC-0</td>\n      <td>NaN</td>\n      <td>45</td>\n      <td>posterior torso</td>\n      <td>NaN</td>\n      <td>benign</td>\n      <td>5.0</td>\n      <td>True</td>\n      <td>...</td>\n      <td>dermoscopic</td>\n      <td>NaN</td>\n      <td>NaN</td>\n      <td>NaN</td>\n      <td>NaN</td>\n      <td>True</td>\n      <td>NaN</td>\n      <td>NaN</td>\n      <td>False</td>\n      <td>male</td>\n    </tr>\n    <tr>\n      <th>4</th>\n      <td>ISIC_0009872</td>\n      <td>Anonymous</td>\n      <td>CC-0</td>\n      <td>NaN</td>\n      <td>50</td>\n      <td>head/neck</td>\n      <td>NaN</td>\n      <td>benign</td>\n      <td>3.0</td>\n      <td>True</td>\n      <td>...</td>\n      <td>dermoscopic</td>\n      <td>NaN</td>\n      <td>NaN</td>\n      <td>NaN</td>\n      <td>NaN</td>\n      <td>True</td>\n      <td>NaN</td>\n      <td>NaN</td>\n      <td>False</td>\n      <td>female</td>\n    </tr>\n  </tbody>\n</table>\n<p>5 rows × 29 columns</p>\n</div>"
     },
     "execution_count": 3,
     "metadata": {},
     "output_type": "execute_result"
    }
   ],
   "source": [
    "metadata = pd.read_csv(METADATA_PATH)\n",
    "print(f\"Total records: {len(metadata)}\")\n",
    "metadata.head()"
   ],
   "metadata": {
    "collapsed": false,
    "ExecuteTime": {
     "end_time": "2025-05-10T02:41:10.416269Z",
     "start_time": "2025-05-10T02:41:10.381908Z"
    }
   },
   "id": "44cdf31e4221d6c4",
   "execution_count": 3
  },
  {
   "cell_type": "code",
   "outputs": [
    {
     "data": {
      "text/plain": "Index(['isic_id', 'attribution', 'copyright_license', 'acquisition_day',\n       'age_approx', 'anatom_site_general', 'anatom_site_special',\n       'benign_malignant', 'clin_size_long_diam_mm', 'concomitant_biopsy',\n       'dermoscopic_type', 'diagnosis_1', 'diagnosis_2', 'diagnosis_3',\n       'diagnosis_4', 'diagnosis_5', 'diagnosis_confirm_type', 'family_hx_mm',\n       'fitzpatrick_skin_type', 'image_type', 'lesion_id', 'mel_class',\n       'mel_thick_mm', 'mel_ulcer', 'melanocytic', 'nevus_type', 'patient_id',\n       'personal_hx_mm', 'sex'],\n      dtype='object')"
     },
     "execution_count": 4,
     "metadata": {},
     "output_type": "execute_result"
    }
   ],
   "source": [
    "metadata.columns"
   ],
   "metadata": {
    "collapsed": false,
    "ExecuteTime": {
     "end_time": "2025-05-10T02:41:10.419200Z",
     "start_time": "2025-05-10T02:41:10.415380Z"
    }
   },
   "id": "9cee8d20a7aa1fc2",
   "execution_count": 4
  },
  {
   "cell_type": "code",
   "outputs": [
    {
     "name": "stdout",
     "output_type": "stream",
     "text": [
      "benign_malignant\n",
      "benign                     2015\n",
      "malignant                   468\n",
      "indeterminate/benign         33\n",
      "indeterminate/malignant      21\n",
      "indeterminate                 9\n",
      "Name: count, dtype: int64\n",
      "Missing values per column:\n",
      "isic_id                      0\n",
      "attribution                  0\n",
      "copyright_license            0\n",
      "acquisition_day           1613\n",
      "age_approx                   0\n",
      "anatom_site_general          0\n",
      "anatom_site_special       2537\n",
      "benign_malignant             4\n",
      "clin_size_long_diam_mm       0\n",
      "concomitant_biopsy          26\n",
      "dermoscopic_type          1695\n",
      "diagnosis_1                  1\n",
      "diagnosis_2                333\n",
      "diagnosis_3                372\n",
      "diagnosis_4               1320\n",
      "diagnosis_5               1945\n",
      "diagnosis_confirm_type       5\n",
      "family_hx_mm                 0\n",
      "fitzpatrick_skin_type     1924\n",
      "image_type                   0\n",
      "lesion_id                 1613\n",
      "mel_class                 2455\n",
      "mel_thick_mm              2504\n",
      "mel_ulcer                 2510\n",
      "melanocytic                358\n",
      "nevus_type                2542\n",
      "patient_id                1613\n",
      "personal_hx_mm               1\n",
      "sex                          0\n",
      "dtype: int64\n"
     ]
    }
   ],
   "source": [
    "print(metadata['benign_malignant'].value_counts())\n",
    "\n",
    "print(\"Missing values per column:\")\n",
    "print(metadata.isnull().sum())"
   ],
   "metadata": {
    "collapsed": false,
    "ExecuteTime": {
     "end_time": "2025-05-10T02:41:10.434354Z",
     "start_time": "2025-05-10T02:41:10.424951Z"
    }
   },
   "id": "5db1569be225aaa4",
   "execution_count": 5
  },
  {
   "cell_type": "code",
   "outputs": [
    {
     "name": "stdout",
     "output_type": "stream",
     "text": [
      "Original distribution:\n",
      "benign_malignant\n",
      "benign                     2015\n",
      "malignant                   468\n",
      "indeterminate/benign         33\n",
      "indeterminate/malignant      21\n",
      "indeterminate                 9\n",
      "Name: count, dtype: int64\n",
      "Filtered distribution:\n",
      "benign_malignant\n",
      "benign       2015\n",
      "malignant     468\n",
      "Name: count, dtype: int64\n",
      "Removed 63 rows\n"
     ]
    }
   ],
   "source": [
    "print(\"Original distribution:\")\n",
    "print(metadata['benign_malignant'].value_counts())\n",
    "indeterminate_values = ['indeterminate', 'indeterminate/benign', 'indeterminate/malignant']\n",
    "# Filter the DataFrame to keep only benign and malignant values\n",
    "metadata_filtered = metadata[~metadata['benign_malignant'].isin(indeterminate_values)]\n",
    "\n",
    "print(\"Filtered distribution:\")\n",
    "print(metadata_filtered['benign_malignant'].value_counts())\n",
    "print(f\"Removed {len(metadata) - len(metadata_filtered)} rows\")\n",
    "\n",
    "# Update the metadata DataFrame\n",
    "metadata = metadata_filtered"
   ],
   "metadata": {
    "collapsed": false,
    "ExecuteTime": {
     "end_time": "2025-05-10T02:41:10.466369Z",
     "start_time": "2025-05-10T02:41:10.433925Z"
    }
   },
   "id": "e5d4334c3e5b2f04",
   "execution_count": 6
  },
  {
   "cell_type": "code",
   "outputs": [],
   "source": [
    "selected_features = ['anatom_site_general', 'dermoscopic_type', 'fitzpatrick_skin_type', 'sex', 'age_approx', 'clin_size_long_diam_mm']"
   ],
   "metadata": {
    "collapsed": false,
    "ExecuteTime": {
     "end_time": "2025-05-10T02:41:10.467194Z",
     "start_time": "2025-05-10T02:41:10.439886Z"
    }
   },
   "id": "17bbea71dcb3d4f7",
   "execution_count": 7
  },
  {
   "cell_type": "code",
   "outputs": [
    {
     "data": {
      "text/plain": "anatom_site_general        object\ndermoscopic_type           object\nfitzpatrick_skin_type      object\nsex                        object\nage_approx                  int64\nclin_size_long_diam_mm    float64\ndtype: object"
     },
     "execution_count": 8,
     "metadata": {},
     "output_type": "execute_result"
    }
   ],
   "source": [
    "metadata[selected_features].dtypes"
   ],
   "metadata": {
    "collapsed": false,
    "ExecuteTime": {
     "end_time": "2025-05-10T02:41:10.484085Z",
     "start_time": "2025-05-10T02:41:10.446518Z"
    }
   },
   "id": "90a83a6dd164173a",
   "execution_count": 8
  },
  {
   "cell_type": "code",
   "outputs": [],
   "source": [
    "def load_and_preprocess_image(img_path, target_size=(IMG_WIDTH, IMG_HEIGHT)):\n",
    "    \"\"\"Load and preprocess an image for the CNN branch.\"\"\"\n",
    "    try:\n",
    "        img = load_img(img_path, target_size=target_size)\n",
    "        img_array = img_to_array(img)\n",
    "        img_array = img_array / 255.0  # Normalize to [0,1]\n",
    "        return img_array\n",
    "    except Exception as e:\n",
    "        print(f\"Error loading image {img_path}: {e}\")\n",
    "        # Return a blank image if error\n",
    "        return np.zeros((target_size[0], target_size[1], 3))\n",
    "\n",
    "def preprocess_metadata(df, selected_features, target_col='benign_malignant'):\n",
    "    \"\"\"Preprocess metadata for the MLP branch.\"\"\"\n",
    "    # Drop rows with missing target or missing isic_id\n",
    "    df = df.dropna(subset=[target_col, 'isic_id'])\n",
    "    \n",
    "    # Create a copy with only the selected features and target\n",
    "    df_selected = df[selected_features + [target_col]].copy()\n",
    "    \n",
    "    # Split features and target\n",
    "    X = df_selected.drop(columns=[target_col])\n",
    "    y = df_selected[target_col]\n",
    "    \n",
    "    # Encode target\n",
    "    le = LabelEncoder()\n",
    "    y_encoded = le.fit_transform(y)\n",
    "    \n",
    "    # Identify numeric and categorical columns\n",
    "    numeric_cols = X.select_dtypes(include=['float64', 'int64']).columns.tolist()\n",
    "    categorical_cols = X.select_dtypes(include=['object']).columns.tolist()\n",
    "    \n",
    "    preprocessor = ColumnTransformer(\n",
    "        transformers=[\n",
    "            ('num', Pipeline([\n",
    "                ('imputer', SimpleImputer(strategy='median')),\n",
    "                ('scaler', StandardScaler())\n",
    "            ]), numeric_cols),\n",
    "            ('cat', Pipeline([\n",
    "                ('imputer', SimpleImputer(strategy='most_frequent')),\n",
    "                ('onehot', OneHotEncoder(handle_unknown='ignore'))\n",
    "            ]), categorical_cols)\n",
    "        ],\n",
    "        remainder='drop'\n",
    "    )\n",
    "    \n",
    "    # Fit and transform\n",
    "    X_processed = preprocessor.fit_transform(X)\n",
    "    \n",
    "    return X_processed, y_encoded, preprocessor, le, df['isic_id'].values"
   ],
   "metadata": {
    "collapsed": false,
    "ExecuteTime": {
     "end_time": "2025-05-10T02:41:10.484920Z",
     "start_time": "2025-05-10T02:41:10.455347Z"
    }
   },
   "id": "b068b8a80af6a3d5",
   "execution_count": 9
  },
  {
   "cell_type": "code",
   "outputs": [
    {
     "name": "stdout",
     "output_type": "stream",
     "text": [
      "Preprocessing metadata\n",
      "Metadata shape after preprocessing: (2483, 18)\n",
      "Number of classes: 2\n",
      "Splitting data into train and test sets\n",
      "Training set size: 1986\n",
      "Test set size: 497\n"
     ]
    }
   ],
   "source": [
    "print(\"Preprocessing metadata\")\n",
    "X_meta, y, preprocessor, label_encoder, isic_ids = preprocess_metadata(metadata, selected_features)\n",
    "print(f\"Metadata shape after preprocessing: {X_meta.shape}\")\n",
    "print(f\"Number of classes: {len(np.unique(y))}\")\n",
    "\n",
    "image_paths = [os.path.join(IMAGE_DIR, f\"{id}.jpg\") for id in isic_ids]\n",
    "print(\"Splitting data into train and test sets\")\n",
    "X_meta_train, X_meta_test, X_img_paths_train, X_img_paths_test, y_train, y_test = train_test_split(\n",
    "    X_meta, image_paths, y, test_size=0.2, random_state=42, stratify=y\n",
    ")\n",
    "\n",
    "print(f\"Training set size: {len(X_meta_train)}\")\n",
    "print(f\"Test set size: {len(X_meta_test)}\")"
   ],
   "metadata": {
    "collapsed": false,
    "ExecuteTime": {
     "end_time": "2025-05-10T02:41:10.620301Z",
     "start_time": "2025-05-10T02:41:10.462521Z"
    }
   },
   "id": "e7c78ad28a444849",
   "execution_count": 10
  },
  {
   "cell_type": "code",
   "outputs": [
    {
     "name": "stdout",
     "output_type": "stream",
     "text": [
      "Limiting training set to 1000 images for memory constraints\n",
      "Limiting test set to 200 images\n",
      "Loading images\n",
      "Image data shape: (1000, 224, 224, 3)\n",
      "Metadata shape: (1000, 18)\n"
     ]
    }
   ],
   "source": [
    "MAX_IMAGES = 1000  # Adjust as needed\n",
    "if len(X_img_paths_train) > MAX_IMAGES:\n",
    "    print(f\"Limiting training set to {MAX_IMAGES} images for memory constraints\")\n",
    "    indices = np.random.choice(len(X_img_paths_train), MAX_IMAGES, replace=False)\n",
    "    X_img_paths_train = [X_img_paths_train[i] for i in indices]\n",
    "    X_meta_train = X_meta_train[indices]\n",
    "    y_train = y_train[indices]\n",
    "\n",
    "if len(X_img_paths_test) > MAX_IMAGES // 5:\n",
    "    test_size = MAX_IMAGES // 5\n",
    "    print(f\"Limiting test set to {test_size} images\")\n",
    "    indices = np.random.choice(len(X_img_paths_test), test_size, replace=False)\n",
    "    X_img_paths_test = [X_img_paths_test[i] for i in indices]\n",
    "    X_meta_test = X_meta_test[indices]\n",
    "    y_test = y_test[indices]\n",
    "\n",
    "print(\"Loading images\")\n",
    "X_img_train = np.array([load_and_preprocess_image(path) for path in X_img_paths_train])\n",
    "X_img_test = np.array([load_and_preprocess_image(path) for path in X_img_paths_test])\n",
    "\n",
    "print(f\"Image data shape: {X_img_train.shape}\")\n",
    "print(f\"Metadata shape: {X_meta_train.shape}\")"
   ],
   "metadata": {
    "collapsed": false,
    "ExecuteTime": {
     "end_time": "2025-05-10T02:41:32.971348Z",
     "start_time": "2025-05-10T02:41:10.486666Z"
    }
   },
   "id": "838f67f70e2f7ef3",
   "execution_count": 11
  },
  {
   "cell_type": "code",
   "outputs": [],
   "source": [
    "def create_cnn_branch(input_shape=(IMG_WIDTH, IMG_HEIGHT, 3)):\n",
    "    \"\"\"Create CNN branch for image data.\"\"\"\n",
    "    # Use a pre-trained model as the base\n",
    "    base_model = MobileNetV2(weights='imagenet', include_top=False, input_shape=input_shape)\n",
    "    \n",
    "    # Freeze the base model\n",
    "    base_model.trainable = False\n",
    "    \n",
    "    # Create the CNN branch\n",
    "    inputs = Input(shape=input_shape)\n",
    "    x = base_model(inputs)\n",
    "    x = GlobalAveragePooling2D()(x)\n",
    "    x = Dense(256, activation='relu')(x)\n",
    "    x = Dropout(0.5)(x)\n",
    "    \n",
    "    return inputs, x\n",
    "\n",
    "def create_mlp_branch(input_dim):\n",
    "    \"\"\"Create MLP branch for metadata.\"\"\"\n",
    "    inputs = Input(shape=(input_dim,))\n",
    "    x = Dense(128, activation='relu')(inputs)\n",
    "    x = BatchNormalization()(x)\n",
    "    x = Dropout(0.3)(x)\n",
    "    x = Dense(64, activation='relu')(x)\n",
    "    x = BatchNormalization()(x)\n",
    "    x = Dropout(0.3)(x)\n",
    "    \n",
    "    return inputs, x\n",
    "\n",
    "def create_mixed_input_model(img_shape=(IMG_WIDTH, IMG_HEIGHT, 3), meta_dim=None, num_classes=2):\n",
    "    \"\"\"Create a model with both CNN and MLP branches.\"\"\"\n",
    "    # Create branches\n",
    "    img_input, cnn_output = create_cnn_branch(img_shape)\n",
    "    meta_input, mlp_output = create_mlp_branch(meta_dim)\n",
    "    \n",
    "    # Combine branches\n",
    "    combined = Concatenate()([cnn_output, mlp_output])\n",
    "    \n",
    "    # Add final layers\n",
    "    x = Dense(128, activation='relu')(combined)\n",
    "    x = BatchNormalization()(x)\n",
    "    x = Dropout(0.5)(x)\n",
    "    \n",
    "    # Add output layer based on number of classes\n",
    "    if num_classes == 2:\n",
    "        output = Dense(1, activation='sigmoid')(x)\n",
    "        loss = 'binary_crossentropy'\n",
    "    else:\n",
    "        output = Dense(num_classes, activation='softmax')(x)\n",
    "        loss = 'sparse_categorical_crossentropy'\n",
    "    \n",
    "    # Create model\n",
    "    model = Model(inputs=[img_input, meta_input], outputs=output)\n",
    "    \n",
    "    # Compile model\n",
    "    model.compile(\n",
    "        optimizer=Adam(learning_rate=0.001),\n",
    "        loss=loss,\n",
    "        metrics=['accuracy']\n",
    "    )\n",
    "    \n",
    "    return model"
   ],
   "metadata": {
    "collapsed": false,
    "ExecuteTime": {
     "end_time": "2025-05-10T02:41:32.982597Z",
     "start_time": "2025-05-10T02:41:32.978778Z"
    }
   },
   "id": "c2841bbb6743054a",
   "execution_count": 12
  },
  {
   "cell_type": "code",
   "outputs": [
    {
     "data": {
      "text/plain": "\u001B[1mModel: \"functional\"\u001B[0m\n",
      "text/html": "<pre style=\"white-space:pre;overflow-x:auto;line-height:normal;font-family:Menlo,'DejaVu Sans Mono',consolas,'Courier New',monospace\"><span style=\"font-weight: bold\">Model: \"functional\"</span>\n</pre>\n"
     },
     "metadata": {},
     "output_type": "display_data"
    },
    {
     "data": {
      "text/plain": "┏━━━━━━━━━━━━━━━━━━━━━┳━━━━━━━━━━━━━━━━━━━┳━━━━━━━━━━━━┳━━━━━━━━━━━━━━━━━━━┓\n┃\u001B[1m \u001B[0m\u001B[1mLayer (type)       \u001B[0m\u001B[1m \u001B[0m┃\u001B[1m \u001B[0m\u001B[1mOutput Shape     \u001B[0m\u001B[1m \u001B[0m┃\u001B[1m \u001B[0m\u001B[1m   Param #\u001B[0m\u001B[1m \u001B[0m┃\u001B[1m \u001B[0m\u001B[1mConnected to     \u001B[0m\u001B[1m \u001B[0m┃\n┡━━━━━━━━━━━━━━━━━━━━━╇━━━━━━━━━━━━━━━━━━━╇━━━━━━━━━━━━╇━━━━━━━━━━━━━━━━━━━┩\n│ input_layer_2       │ (\u001B[38;5;45mNone\u001B[0m, \u001B[38;5;34m18\u001B[0m)        │          \u001B[38;5;34m0\u001B[0m │ -                 │\n│ (\u001B[38;5;33mInputLayer\u001B[0m)        │                   │            │                   │\n├─────────────────────┼───────────────────┼────────────┼───────────────────┤\n│ dense_1 (\u001B[38;5;33mDense\u001B[0m)     │ (\u001B[38;5;45mNone\u001B[0m, \u001B[38;5;34m128\u001B[0m)       │      \u001B[38;5;34m2,432\u001B[0m │ input_layer_2[\u001B[38;5;34m0\u001B[0m]… │\n├─────────────────────┼───────────────────┼────────────┼───────────────────┤\n│ input_layer_1       │ (\u001B[38;5;45mNone\u001B[0m, \u001B[38;5;34m224\u001B[0m, \u001B[38;5;34m224\u001B[0m,  │          \u001B[38;5;34m0\u001B[0m │ -                 │\n│ (\u001B[38;5;33mInputLayer\u001B[0m)        │ \u001B[38;5;34m3\u001B[0m)                │            │                   │\n├─────────────────────┼───────────────────┼────────────┼───────────────────┤\n│ batch_normalization │ (\u001B[38;5;45mNone\u001B[0m, \u001B[38;5;34m128\u001B[0m)       │        \u001B[38;5;34m512\u001B[0m │ dense_1[\u001B[38;5;34m0\u001B[0m][\u001B[38;5;34m0\u001B[0m]     │\n│ (\u001B[38;5;33mBatchNormalizatio…\u001B[0m │                   │            │                   │\n├─────────────────────┼───────────────────┼────────────┼───────────────────┤\n│ mobilenetv2_1.00_2… │ (\u001B[38;5;45mNone\u001B[0m, \u001B[38;5;34m7\u001B[0m, \u001B[38;5;34m7\u001B[0m,      │  \u001B[38;5;34m2,257,984\u001B[0m │ input_layer_1[\u001B[38;5;34m0\u001B[0m]… │\n│ (\u001B[38;5;33mFunctional\u001B[0m)        │ \u001B[38;5;34m1280\u001B[0m)             │            │                   │\n├─────────────────────┼───────────────────┼────────────┼───────────────────┤\n│ dropout_1 (\u001B[38;5;33mDropout\u001B[0m) │ (\u001B[38;5;45mNone\u001B[0m, \u001B[38;5;34m128\u001B[0m)       │          \u001B[38;5;34m0\u001B[0m │ batch_normalizat… │\n├─────────────────────┼───────────────────┼────────────┼───────────────────┤\n│ global_average_poo… │ (\u001B[38;5;45mNone\u001B[0m, \u001B[38;5;34m1280\u001B[0m)      │          \u001B[38;5;34m0\u001B[0m │ mobilenetv2_1.00… │\n│ (\u001B[38;5;33mGlobalAveragePool…\u001B[0m │                   │            │                   │\n├─────────────────────┼───────────────────┼────────────┼───────────────────┤\n│ dense_2 (\u001B[38;5;33mDense\u001B[0m)     │ (\u001B[38;5;45mNone\u001B[0m, \u001B[38;5;34m64\u001B[0m)        │      \u001B[38;5;34m8,256\u001B[0m │ dropout_1[\u001B[38;5;34m0\u001B[0m][\u001B[38;5;34m0\u001B[0m]   │\n├─────────────────────┼───────────────────┼────────────┼───────────────────┤\n│ dense (\u001B[38;5;33mDense\u001B[0m)       │ (\u001B[38;5;45mNone\u001B[0m, \u001B[38;5;34m256\u001B[0m)       │    \u001B[38;5;34m327,936\u001B[0m │ global_average_p… │\n├─────────────────────┼───────────────────┼────────────┼───────────────────┤\n│ batch_normalizatio… │ (\u001B[38;5;45mNone\u001B[0m, \u001B[38;5;34m64\u001B[0m)        │        \u001B[38;5;34m256\u001B[0m │ dense_2[\u001B[38;5;34m0\u001B[0m][\u001B[38;5;34m0\u001B[0m]     │\n│ (\u001B[38;5;33mBatchNormalizatio…\u001B[0m │                   │            │                   │\n├─────────────────────┼───────────────────┼────────────┼───────────────────┤\n│ dropout (\u001B[38;5;33mDropout\u001B[0m)   │ (\u001B[38;5;45mNone\u001B[0m, \u001B[38;5;34m256\u001B[0m)       │          \u001B[38;5;34m0\u001B[0m │ dense[\u001B[38;5;34m0\u001B[0m][\u001B[38;5;34m0\u001B[0m]       │\n├─────────────────────┼───────────────────┼────────────┼───────────────────┤\n│ dropout_2 (\u001B[38;5;33mDropout\u001B[0m) │ (\u001B[38;5;45mNone\u001B[0m, \u001B[38;5;34m64\u001B[0m)        │          \u001B[38;5;34m0\u001B[0m │ batch_normalizat… │\n├─────────────────────┼───────────────────┼────────────┼───────────────────┤\n│ concatenate         │ (\u001B[38;5;45mNone\u001B[0m, \u001B[38;5;34m320\u001B[0m)       │          \u001B[38;5;34m0\u001B[0m │ dropout[\u001B[38;5;34m0\u001B[0m][\u001B[38;5;34m0\u001B[0m],    │\n│ (\u001B[38;5;33mConcatenate\u001B[0m)       │                   │            │ dropout_2[\u001B[38;5;34m0\u001B[0m][\u001B[38;5;34m0\u001B[0m]   │\n├─────────────────────┼───────────────────┼────────────┼───────────────────┤\n│ dense_3 (\u001B[38;5;33mDense\u001B[0m)     │ (\u001B[38;5;45mNone\u001B[0m, \u001B[38;5;34m128\u001B[0m)       │     \u001B[38;5;34m41,088\u001B[0m │ concatenate[\u001B[38;5;34m0\u001B[0m][\u001B[38;5;34m0\u001B[0m] │\n├─────────────────────┼───────────────────┼────────────┼───────────────────┤\n│ batch_normalizatio… │ (\u001B[38;5;45mNone\u001B[0m, \u001B[38;5;34m128\u001B[0m)       │        \u001B[38;5;34m512\u001B[0m │ dense_3[\u001B[38;5;34m0\u001B[0m][\u001B[38;5;34m0\u001B[0m]     │\n│ (\u001B[38;5;33mBatchNormalizatio…\u001B[0m │                   │            │                   │\n├─────────────────────┼───────────────────┼────────────┼───────────────────┤\n│ dropout_3 (\u001B[38;5;33mDropout\u001B[0m) │ (\u001B[38;5;45mNone\u001B[0m, \u001B[38;5;34m128\u001B[0m)       │          \u001B[38;5;34m0\u001B[0m │ batch_normalizat… │\n├─────────────────────┼───────────────────┼────────────┼───────────────────┤\n│ dense_4 (\u001B[38;5;33mDense\u001B[0m)     │ (\u001B[38;5;45mNone\u001B[0m, \u001B[38;5;34m1\u001B[0m)         │        \u001B[38;5;34m129\u001B[0m │ dropout_3[\u001B[38;5;34m0\u001B[0m][\u001B[38;5;34m0\u001B[0m]   │\n└─────────────────────┴───────────────────┴────────────┴───────────────────┘\n",
      "text/html": "<pre style=\"white-space:pre;overflow-x:auto;line-height:normal;font-family:Menlo,'DejaVu Sans Mono',consolas,'Courier New',monospace\">┏━━━━━━━━━━━━━━━━━━━━━┳━━━━━━━━━━━━━━━━━━━┳━━━━━━━━━━━━┳━━━━━━━━━━━━━━━━━━━┓\n┃<span style=\"font-weight: bold\"> Layer (type)        </span>┃<span style=\"font-weight: bold\"> Output Shape      </span>┃<span style=\"font-weight: bold\">    Param # </span>┃<span style=\"font-weight: bold\"> Connected to      </span>┃\n┡━━━━━━━━━━━━━━━━━━━━━╇━━━━━━━━━━━━━━━━━━━╇━━━━━━━━━━━━╇━━━━━━━━━━━━━━━━━━━┩\n│ input_layer_2       │ (<span style=\"color: #00d7ff; text-decoration-color: #00d7ff\">None</span>, <span style=\"color: #00af00; text-decoration-color: #00af00\">18</span>)        │          <span style=\"color: #00af00; text-decoration-color: #00af00\">0</span> │ -                 │\n│ (<span style=\"color: #0087ff; text-decoration-color: #0087ff\">InputLayer</span>)        │                   │            │                   │\n├─────────────────────┼───────────────────┼────────────┼───────────────────┤\n│ dense_1 (<span style=\"color: #0087ff; text-decoration-color: #0087ff\">Dense</span>)     │ (<span style=\"color: #00d7ff; text-decoration-color: #00d7ff\">None</span>, <span style=\"color: #00af00; text-decoration-color: #00af00\">128</span>)       │      <span style=\"color: #00af00; text-decoration-color: #00af00\">2,432</span> │ input_layer_2[<span style=\"color: #00af00; text-decoration-color: #00af00\">0</span>]… │\n├─────────────────────┼───────────────────┼────────────┼───────────────────┤\n│ input_layer_1       │ (<span style=\"color: #00d7ff; text-decoration-color: #00d7ff\">None</span>, <span style=\"color: #00af00; text-decoration-color: #00af00\">224</span>, <span style=\"color: #00af00; text-decoration-color: #00af00\">224</span>,  │          <span style=\"color: #00af00; text-decoration-color: #00af00\">0</span> │ -                 │\n│ (<span style=\"color: #0087ff; text-decoration-color: #0087ff\">InputLayer</span>)        │ <span style=\"color: #00af00; text-decoration-color: #00af00\">3</span>)                │            │                   │\n├─────────────────────┼───────────────────┼────────────┼───────────────────┤\n│ batch_normalization │ (<span style=\"color: #00d7ff; text-decoration-color: #00d7ff\">None</span>, <span style=\"color: #00af00; text-decoration-color: #00af00\">128</span>)       │        <span style=\"color: #00af00; text-decoration-color: #00af00\">512</span> │ dense_1[<span style=\"color: #00af00; text-decoration-color: #00af00\">0</span>][<span style=\"color: #00af00; text-decoration-color: #00af00\">0</span>]     │\n│ (<span style=\"color: #0087ff; text-decoration-color: #0087ff\">BatchNormalizatio…</span> │                   │            │                   │\n├─────────────────────┼───────────────────┼────────────┼───────────────────┤\n│ mobilenetv2_1.00_2… │ (<span style=\"color: #00d7ff; text-decoration-color: #00d7ff\">None</span>, <span style=\"color: #00af00; text-decoration-color: #00af00\">7</span>, <span style=\"color: #00af00; text-decoration-color: #00af00\">7</span>,      │  <span style=\"color: #00af00; text-decoration-color: #00af00\">2,257,984</span> │ input_layer_1[<span style=\"color: #00af00; text-decoration-color: #00af00\">0</span>]… │\n│ (<span style=\"color: #0087ff; text-decoration-color: #0087ff\">Functional</span>)        │ <span style=\"color: #00af00; text-decoration-color: #00af00\">1280</span>)             │            │                   │\n├─────────────────────┼───────────────────┼────────────┼───────────────────┤\n│ dropout_1 (<span style=\"color: #0087ff; text-decoration-color: #0087ff\">Dropout</span>) │ (<span style=\"color: #00d7ff; text-decoration-color: #00d7ff\">None</span>, <span style=\"color: #00af00; text-decoration-color: #00af00\">128</span>)       │          <span style=\"color: #00af00; text-decoration-color: #00af00\">0</span> │ batch_normalizat… │\n├─────────────────────┼───────────────────┼────────────┼───────────────────┤\n│ global_average_poo… │ (<span style=\"color: #00d7ff; text-decoration-color: #00d7ff\">None</span>, <span style=\"color: #00af00; text-decoration-color: #00af00\">1280</span>)      │          <span style=\"color: #00af00; text-decoration-color: #00af00\">0</span> │ mobilenetv2_1.00… │\n│ (<span style=\"color: #0087ff; text-decoration-color: #0087ff\">GlobalAveragePool…</span> │                   │            │                   │\n├─────────────────────┼───────────────────┼────────────┼───────────────────┤\n│ dense_2 (<span style=\"color: #0087ff; text-decoration-color: #0087ff\">Dense</span>)     │ (<span style=\"color: #00d7ff; text-decoration-color: #00d7ff\">None</span>, <span style=\"color: #00af00; text-decoration-color: #00af00\">64</span>)        │      <span style=\"color: #00af00; text-decoration-color: #00af00\">8,256</span> │ dropout_1[<span style=\"color: #00af00; text-decoration-color: #00af00\">0</span>][<span style=\"color: #00af00; text-decoration-color: #00af00\">0</span>]   │\n├─────────────────────┼───────────────────┼────────────┼───────────────────┤\n│ dense (<span style=\"color: #0087ff; text-decoration-color: #0087ff\">Dense</span>)       │ (<span style=\"color: #00d7ff; text-decoration-color: #00d7ff\">None</span>, <span style=\"color: #00af00; text-decoration-color: #00af00\">256</span>)       │    <span style=\"color: #00af00; text-decoration-color: #00af00\">327,936</span> │ global_average_p… │\n├─────────────────────┼───────────────────┼────────────┼───────────────────┤\n│ batch_normalizatio… │ (<span style=\"color: #00d7ff; text-decoration-color: #00d7ff\">None</span>, <span style=\"color: #00af00; text-decoration-color: #00af00\">64</span>)        │        <span style=\"color: #00af00; text-decoration-color: #00af00\">256</span> │ dense_2[<span style=\"color: #00af00; text-decoration-color: #00af00\">0</span>][<span style=\"color: #00af00; text-decoration-color: #00af00\">0</span>]     │\n│ (<span style=\"color: #0087ff; text-decoration-color: #0087ff\">BatchNormalizatio…</span> │                   │            │                   │\n├─────────────────────┼───────────────────┼────────────┼───────────────────┤\n│ dropout (<span style=\"color: #0087ff; text-decoration-color: #0087ff\">Dropout</span>)   │ (<span style=\"color: #00d7ff; text-decoration-color: #00d7ff\">None</span>, <span style=\"color: #00af00; text-decoration-color: #00af00\">256</span>)       │          <span style=\"color: #00af00; text-decoration-color: #00af00\">0</span> │ dense[<span style=\"color: #00af00; text-decoration-color: #00af00\">0</span>][<span style=\"color: #00af00; text-decoration-color: #00af00\">0</span>]       │\n├─────────────────────┼───────────────────┼────────────┼───────────────────┤\n│ dropout_2 (<span style=\"color: #0087ff; text-decoration-color: #0087ff\">Dropout</span>) │ (<span style=\"color: #00d7ff; text-decoration-color: #00d7ff\">None</span>, <span style=\"color: #00af00; text-decoration-color: #00af00\">64</span>)        │          <span style=\"color: #00af00; text-decoration-color: #00af00\">0</span> │ batch_normalizat… │\n├─────────────────────┼───────────────────┼────────────┼───────────────────┤\n│ concatenate         │ (<span style=\"color: #00d7ff; text-decoration-color: #00d7ff\">None</span>, <span style=\"color: #00af00; text-decoration-color: #00af00\">320</span>)       │          <span style=\"color: #00af00; text-decoration-color: #00af00\">0</span> │ dropout[<span style=\"color: #00af00; text-decoration-color: #00af00\">0</span>][<span style=\"color: #00af00; text-decoration-color: #00af00\">0</span>],    │\n│ (<span style=\"color: #0087ff; text-decoration-color: #0087ff\">Concatenate</span>)       │                   │            │ dropout_2[<span style=\"color: #00af00; text-decoration-color: #00af00\">0</span>][<span style=\"color: #00af00; text-decoration-color: #00af00\">0</span>]   │\n├─────────────────────┼───────────────────┼────────────┼───────────────────┤\n│ dense_3 (<span style=\"color: #0087ff; text-decoration-color: #0087ff\">Dense</span>)     │ (<span style=\"color: #00d7ff; text-decoration-color: #00d7ff\">None</span>, <span style=\"color: #00af00; text-decoration-color: #00af00\">128</span>)       │     <span style=\"color: #00af00; text-decoration-color: #00af00\">41,088</span> │ concatenate[<span style=\"color: #00af00; text-decoration-color: #00af00\">0</span>][<span style=\"color: #00af00; text-decoration-color: #00af00\">0</span>] │\n├─────────────────────┼───────────────────┼────────────┼───────────────────┤\n│ batch_normalizatio… │ (<span style=\"color: #00d7ff; text-decoration-color: #00d7ff\">None</span>, <span style=\"color: #00af00; text-decoration-color: #00af00\">128</span>)       │        <span style=\"color: #00af00; text-decoration-color: #00af00\">512</span> │ dense_3[<span style=\"color: #00af00; text-decoration-color: #00af00\">0</span>][<span style=\"color: #00af00; text-decoration-color: #00af00\">0</span>]     │\n│ (<span style=\"color: #0087ff; text-decoration-color: #0087ff\">BatchNormalizatio…</span> │                   │            │                   │\n├─────────────────────┼───────────────────┼────────────┼───────────────────┤\n│ dropout_3 (<span style=\"color: #0087ff; text-decoration-color: #0087ff\">Dropout</span>) │ (<span style=\"color: #00d7ff; text-decoration-color: #00d7ff\">None</span>, <span style=\"color: #00af00; text-decoration-color: #00af00\">128</span>)       │          <span style=\"color: #00af00; text-decoration-color: #00af00\">0</span> │ batch_normalizat… │\n├─────────────────────┼───────────────────┼────────────┼───────────────────┤\n│ dense_4 (<span style=\"color: #0087ff; text-decoration-color: #0087ff\">Dense</span>)     │ (<span style=\"color: #00d7ff; text-decoration-color: #00d7ff\">None</span>, <span style=\"color: #00af00; text-decoration-color: #00af00\">1</span>)         │        <span style=\"color: #00af00; text-decoration-color: #00af00\">129</span> │ dropout_3[<span style=\"color: #00af00; text-decoration-color: #00af00\">0</span>][<span style=\"color: #00af00; text-decoration-color: #00af00\">0</span>]   │\n└─────────────────────┴───────────────────┴────────────┴───────────────────┘\n</pre>\n"
     },
     "metadata": {},
     "output_type": "display_data"
    },
    {
     "data": {
      "text/plain": "\u001B[1m Total params: \u001B[0m\u001B[38;5;34m2,639,105\u001B[0m (10.07 MB)\n",
      "text/html": "<pre style=\"white-space:pre;overflow-x:auto;line-height:normal;font-family:Menlo,'DejaVu Sans Mono',consolas,'Courier New',monospace\"><span style=\"font-weight: bold\"> Total params: </span><span style=\"color: #00af00; text-decoration-color: #00af00\">2,639,105</span> (10.07 MB)\n</pre>\n"
     },
     "metadata": {},
     "output_type": "display_data"
    },
    {
     "data": {
      "text/plain": "\u001B[1m Trainable params: \u001B[0m\u001B[38;5;34m380,481\u001B[0m (1.45 MB)\n",
      "text/html": "<pre style=\"white-space:pre;overflow-x:auto;line-height:normal;font-family:Menlo,'DejaVu Sans Mono',consolas,'Courier New',monospace\"><span style=\"font-weight: bold\"> Trainable params: </span><span style=\"color: #00af00; text-decoration-color: #00af00\">380,481</span> (1.45 MB)\n</pre>\n"
     },
     "metadata": {},
     "output_type": "display_data"
    },
    {
     "data": {
      "text/plain": "\u001B[1m Non-trainable params: \u001B[0m\u001B[38;5;34m2,258,624\u001B[0m (8.62 MB)\n",
      "text/html": "<pre style=\"white-space:pre;overflow-x:auto;line-height:normal;font-family:Menlo,'DejaVu Sans Mono',consolas,'Courier New',monospace\"><span style=\"font-weight: bold\"> Non-trainable params: </span><span style=\"color: #00af00; text-decoration-color: #00af00\">2,258,624</span> (8.62 MB)\n</pre>\n"
     },
     "metadata": {},
     "output_type": "display_data"
    }
   ],
   "source": [
    "num_classes = len(np.unique(y))\n",
    "meta_dim = X_meta_train.shape[1]\n",
    "mixed_model = create_mixed_input_model(meta_dim=meta_dim, num_classes=num_classes)\n",
    "\n",
    "mixed_model.summary()"
   ],
   "metadata": {
    "collapsed": false,
    "ExecuteTime": {
     "end_time": "2025-05-10T02:41:33.604145Z",
     "start_time": "2025-05-10T02:41:32.983652Z"
    }
   },
   "id": "362b315a8680c999",
   "execution_count": 13
  },
  {
   "cell_type": "code",
   "outputs": [
    {
     "name": "stdout",
     "output_type": "stream",
     "text": [
      "Epoch 1/20\n",
      "\u001B[1m32/32\u001B[0m \u001B[32m━━━━━━━━━━━━━━━━━━━━\u001B[0m\u001B[37m\u001B[0m \u001B[1m0s\u001B[0m 736ms/step - accuracy: 0.5466 - loss: 0.9171\n",
      "Epoch 1: val_accuracy improved from -inf to 0.57500, saving model to skin_lesion_classifier_without_image_seg_max_accuracy.keras\n",
      "\u001B[1m32/32\u001B[0m \u001B[32m━━━━━━━━━━━━━━━━━━━━\u001B[0m\u001B[37m\u001B[0m \u001B[1m35s\u001B[0m 1s/step - accuracy: 0.5474 - loss: 0.9148 - val_accuracy: 0.5750 - val_loss: 0.6927\n",
      "Epoch 2/20\n",
      "\u001B[1m32/32\u001B[0m \u001B[32m━━━━━━━━━━━━━━━━━━━━\u001B[0m\u001B[37m\u001B[0m \u001B[1m0s\u001B[0m 718ms/step - accuracy: 0.6997 - loss: 0.6034\n",
      "Epoch 2: val_accuracy improved from 0.57500 to 0.80500, saving model to skin_lesion_classifier_without_image_seg_max_accuracy.keras\n",
      "\u001B[1m32/32\u001B[0m \u001B[32m━━━━━━━━━━━━━━━━━━━━\u001B[0m\u001B[37m\u001B[0m \u001B[1m28s\u001B[0m 857ms/step - accuracy: 0.6994 - loss: 0.6036 - val_accuracy: 0.8050 - val_loss: 0.4497\n",
      "Epoch 3/20\n",
      "\u001B[1m32/32\u001B[0m \u001B[32m━━━━━━━━━━━━━━━━━━━━\u001B[0m\u001B[37m\u001B[0m \u001B[1m0s\u001B[0m 737ms/step - accuracy: 0.7167 - loss: 0.5628\n",
      "Epoch 3: val_accuracy did not improve from 0.80500\n",
      "\u001B[1m32/32\u001B[0m \u001B[32m━━━━━━━━━━━━━━━━━━━━\u001B[0m\u001B[37m\u001B[0m \u001B[1m27s\u001B[0m 867ms/step - accuracy: 0.7167 - loss: 0.5626 - val_accuracy: 0.8000 - val_loss: 0.4751\n",
      "Epoch 4/20\n",
      "\u001B[1m32/32\u001B[0m \u001B[32m━━━━━━━━━━━━━━━━━━━━\u001B[0m\u001B[37m\u001B[0m \u001B[1m0s\u001B[0m 831ms/step - accuracy: 0.7754 - loss: 0.5077\n",
      "Epoch 4: val_accuracy did not improve from 0.80500\n",
      "\u001B[1m32/32\u001B[0m \u001B[32m━━━━━━━━━━━━━━━━━━━━\u001B[0m\u001B[37m\u001B[0m \u001B[1m35s\u001B[0m 1s/step - accuracy: 0.7755 - loss: 0.5074 - val_accuracy: 0.8000 - val_loss: 0.4623\n",
      "Epoch 5/20\n",
      "\u001B[1m32/32\u001B[0m \u001B[32m━━━━━━━━━━━━━━━━━━━━\u001B[0m\u001B[37m\u001B[0m \u001B[1m0s\u001B[0m 1s/step - accuracy: 0.7856 - loss: 0.4822\n",
      "Epoch 5: val_accuracy improved from 0.80500 to 0.82000, saving model to skin_lesion_classifier_without_image_seg_max_accuracy.keras\n",
      "\u001B[1m32/32\u001B[0m \u001B[32m━━━━━━━━━━━━━━━━━━━━\u001B[0m\u001B[37m\u001B[0m \u001B[1m47s\u001B[0m 1s/step - accuracy: 0.7861 - loss: 0.4815 - val_accuracy: 0.8200 - val_loss: 0.4280\n",
      "Epoch 6/20\n",
      "\u001B[1m32/32\u001B[0m \u001B[32m━━━━━━━━━━━━━━━━━━━━\u001B[0m\u001B[37m\u001B[0m \u001B[1m0s\u001B[0m 843ms/step - accuracy: 0.7996 - loss: 0.4577\n",
      "Epoch 6: val_accuracy did not improve from 0.82000\n",
      "\u001B[1m32/32\u001B[0m \u001B[32m━━━━━━━━━━━━━━━━━━━━\u001B[0m\u001B[37m\u001B[0m \u001B[1m34s\u001B[0m 1s/step - accuracy: 0.7996 - loss: 0.4578 - val_accuracy: 0.8100 - val_loss: 0.4287\n",
      "Epoch 7/20\n",
      "\u001B[1m32/32\u001B[0m \u001B[32m━━━━━━━━━━━━━━━━━━━━\u001B[0m\u001B[37m\u001B[0m \u001B[1m0s\u001B[0m 1s/step - accuracy: 0.8292 - loss: 0.4185\n",
      "Epoch 7: val_accuracy improved from 0.82000 to 0.82500, saving model to skin_lesion_classifier_without_image_seg_max_accuracy.keras\n",
      "\u001B[1m32/32\u001B[0m \u001B[32m━━━━━━━━━━━━━━━━━━━━\u001B[0m\u001B[37m\u001B[0m \u001B[1m44s\u001B[0m 1s/step - accuracy: 0.8294 - loss: 0.4183 - val_accuracy: 0.8250 - val_loss: 0.4436\n",
      "Epoch 8/20\n",
      "\u001B[1m32/32\u001B[0m \u001B[32m━━━━━━━━━━━━━━━━━━━━\u001B[0m\u001B[37m\u001B[0m \u001B[1m0s\u001B[0m 955ms/step - accuracy: 0.8333 - loss: 0.3957\n",
      "Epoch 8: val_accuracy did not improve from 0.82500\n",
      "\u001B[1m32/32\u001B[0m \u001B[32m━━━━━━━━━━━━━━━━━━━━\u001B[0m\u001B[37m\u001B[0m \u001B[1m35s\u001B[0m 1s/step - accuracy: 0.8330 - loss: 0.3960 - val_accuracy: 0.8200 - val_loss: 0.4347\n",
      "Epoch 9/20\n",
      "\u001B[1m32/32\u001B[0m \u001B[32m━━━━━━━━━━━━━━━━━━━━\u001B[0m\u001B[37m\u001B[0m \u001B[1m0s\u001B[0m 1s/step - accuracy: 0.8342 - loss: 0.4061\n",
      "Epoch 9: val_accuracy did not improve from 0.82500\n",
      "\u001B[1m32/32\u001B[0m \u001B[32m━━━━━━━━━━━━━━━━━━━━\u001B[0m\u001B[37m\u001B[0m \u001B[1m46s\u001B[0m 1s/step - accuracy: 0.8343 - loss: 0.4055 - val_accuracy: 0.8100 - val_loss: 0.4342\n",
      "Epoch 10/20\n",
      "\u001B[1m32/32\u001B[0m \u001B[32m━━━━━━━━━━━━━━━━━━━━\u001B[0m\u001B[37m\u001B[0m \u001B[1m0s\u001B[0m 1s/step - accuracy: 0.8359 - loss: 0.3881\n",
      "Epoch 10: val_accuracy did not improve from 0.82500\n",
      "\u001B[1m32/32\u001B[0m \u001B[32m━━━━━━━━━━━━━━━━━━━━\u001B[0m\u001B[37m\u001B[0m \u001B[1m58s\u001B[0m 2s/step - accuracy: 0.8358 - loss: 0.3884 - val_accuracy: 0.8200 - val_loss: 0.4037\n",
      "Epoch 11/20\n",
      "\u001B[1m32/32\u001B[0m \u001B[32m━━━━━━━━━━━━━━━━━━━━\u001B[0m\u001B[37m\u001B[0m \u001B[1m0s\u001B[0m 2s/step - accuracy: 0.8440 - loss: 0.3791\n",
      "Epoch 11: val_accuracy improved from 0.82500 to 0.83500, saving model to skin_lesion_classifier_without_image_seg_max_accuracy.keras\n",
      "\u001B[1m32/32\u001B[0m \u001B[32m━━━━━━━━━━━━━━━━━━━━\u001B[0m\u001B[37m\u001B[0m \u001B[1m65s\u001B[0m 2s/step - accuracy: 0.8441 - loss: 0.3793 - val_accuracy: 0.8350 - val_loss: 0.4008\n",
      "Epoch 12/20\n",
      "\u001B[1m32/32\u001B[0m \u001B[32m━━━━━━━━━━━━━━━━━━━━\u001B[0m\u001B[37m\u001B[0m \u001B[1m0s\u001B[0m 2s/step - accuracy: 0.8336 - loss: 0.3700\n",
      "Epoch 12: val_accuracy did not improve from 0.83500\n",
      "\u001B[1m32/32\u001B[0m \u001B[32m━━━━━━━━━━━━━━━━━━━━\u001B[0m\u001B[37m\u001B[0m \u001B[1m61s\u001B[0m 2s/step - accuracy: 0.8336 - loss: 0.3701 - val_accuracy: 0.8150 - val_loss: 0.4090\n",
      "Epoch 13/20\n",
      "\u001B[1m32/32\u001B[0m \u001B[32m━━━━━━━━━━━━━━━━━━━━\u001B[0m\u001B[37m\u001B[0m \u001B[1m0s\u001B[0m 2s/step - accuracy: 0.8090 - loss: 0.3596\n",
      "Epoch 13: val_accuracy did not improve from 0.83500\n",
      "\u001B[1m32/32\u001B[0m \u001B[32m━━━━━━━━━━━━━━━━━━━━\u001B[0m\u001B[37m\u001B[0m \u001B[1m75s\u001B[0m 2s/step - accuracy: 0.8099 - loss: 0.3595 - val_accuracy: 0.8250 - val_loss: 0.3997\n",
      "Epoch 14/20\n",
      "\u001B[1m32/32\u001B[0m \u001B[32m━━━━━━━━━━━━━━━━━━━━\u001B[0m\u001B[37m\u001B[0m \u001B[1m0s\u001B[0m 2s/step - accuracy: 0.8728 - loss: 0.3260\n",
      "Epoch 14: val_accuracy improved from 0.83500 to 0.84000, saving model to skin_lesion_classifier_without_image_seg_max_accuracy.keras\n",
      "\u001B[1m32/32\u001B[0m \u001B[32m━━━━━━━━━━━━━━━━━━━━\u001B[0m\u001B[37m\u001B[0m \u001B[1m68s\u001B[0m 2s/step - accuracy: 0.8725 - loss: 0.3261 - val_accuracy: 0.8400 - val_loss: 0.3959\n",
      "Epoch 15/20\n",
      "\u001B[1m32/32\u001B[0m \u001B[32m━━━━━━━━━━━━━━━━━━━━\u001B[0m\u001B[37m\u001B[0m \u001B[1m0s\u001B[0m 2s/step - accuracy: 0.8771 - loss: 0.3124\n",
      "Epoch 15: val_accuracy improved from 0.84000 to 0.84500, saving model to skin_lesion_classifier_without_image_seg_max_accuracy.keras\n",
      "\u001B[1m32/32\u001B[0m \u001B[32m━━━━━━━━━━━━━━━━━━━━\u001B[0m\u001B[37m\u001B[0m \u001B[1m78s\u001B[0m 2s/step - accuracy: 0.8769 - loss: 0.3123 - val_accuracy: 0.8450 - val_loss: 0.3910\n",
      "Epoch 16/20\n",
      "\u001B[1m32/32\u001B[0m \u001B[32m━━━━━━━━━━━━━━━━━━━━\u001B[0m\u001B[37m\u001B[0m \u001B[1m0s\u001B[0m 2s/step - accuracy: 0.8752 - loss: 0.3335\n",
      "Epoch 16: val_accuracy improved from 0.84500 to 0.85000, saving model to skin_lesion_classifier_without_image_seg_max_accuracy.keras\n",
      "\u001B[1m32/32\u001B[0m \u001B[32m━━━━━━━━━━━━━━━━━━━━\u001B[0m\u001B[37m\u001B[0m \u001B[1m74s\u001B[0m 2s/step - accuracy: 0.8752 - loss: 0.3333 - val_accuracy: 0.8500 - val_loss: 0.3859\n",
      "Epoch 17/20\n",
      "\u001B[1m32/32\u001B[0m \u001B[32m━━━━━━━━━━━━━━━━━━━━\u001B[0m\u001B[37m\u001B[0m \u001B[1m0s\u001B[0m 945ms/step - accuracy: 0.8617 - loss: 0.2858\n",
      "Epoch 17: val_accuracy did not improve from 0.85000\n",
      "\u001B[1m32/32\u001B[0m \u001B[32m━━━━━━━━━━━━━━━━━━━━\u001B[0m\u001B[37m\u001B[0m \u001B[1m37s\u001B[0m 1s/step - accuracy: 0.8619 - loss: 0.2859 - val_accuracy: 0.8150 - val_loss: 0.3996\n",
      "Epoch 18/20\n",
      "\u001B[1m32/32\u001B[0m \u001B[32m━━━━━━━━━━━━━━━━━━━━\u001B[0m\u001B[37m\u001B[0m \u001B[1m0s\u001B[0m 887ms/step - accuracy: 0.8726 - loss: 0.3087\n",
      "Epoch 18: val_accuracy did not improve from 0.85000\n",
      "\u001B[1m32/32\u001B[0m \u001B[32m━━━━━━━━━━━━━━━━━━━━\u001B[0m\u001B[37m\u001B[0m \u001B[1m33s\u001B[0m 1s/step - accuracy: 0.8727 - loss: 0.3088 - val_accuracy: 0.8150 - val_loss: 0.3954\n",
      "Epoch 19/20\n",
      "\u001B[1m32/32\u001B[0m \u001B[32m━━━━━━━━━━━━━━━━━━━━\u001B[0m\u001B[37m\u001B[0m \u001B[1m0s\u001B[0m 795ms/step - accuracy: 0.8680 - loss: 0.3007\n",
      "Epoch 19: val_accuracy did not improve from 0.85000\n",
      "\u001B[1m32/32\u001B[0m \u001B[32m━━━━━━━━━━━━━━━━━━━━\u001B[0m\u001B[37m\u001B[0m \u001B[1m31s\u001B[0m 973ms/step - accuracy: 0.8683 - loss: 0.3005 - val_accuracy: 0.8500 - val_loss: 0.3958\n",
      "Epoch 20/20\n",
      "\u001B[1m32/32\u001B[0m \u001B[32m━━━━━━━━━━━━━━━━━━━━\u001B[0m\u001B[37m\u001B[0m \u001B[1m0s\u001B[0m 789ms/step - accuracy: 0.8800 - loss: 0.2826\n",
      "Epoch 20: val_accuracy did not improve from 0.85000\n",
      "\u001B[1m32/32\u001B[0m \u001B[32m━━━━━━━━━━━━━━━━━━━━\u001B[0m\u001B[37m\u001B[0m \u001B[1m31s\u001B[0m 955ms/step - accuracy: 0.8802 - loss: 0.2821 - val_accuracy: 0.7800 - val_loss: 0.4560\n",
      "Restoring model weights from the end of the best epoch: 16.\n"
     ]
    }
   ],
   "source": [
    "# Set up callbacks\n",
    "checkpoint = ModelCheckpoint(\n",
    "    'skin_lesion_classifier_without_image_seg_max_accuracy.keras',\n",
    "    monitor='val_accuracy',\n",
    "    save_best_only=True,\n",
    "    mode='max',\n",
    "    verbose=1\n",
    ")\n",
    "\n",
    "early_stopping = EarlyStopping(\n",
    "    monitor='val_accuracy',\n",
    "    patience=10,\n",
    "    restore_best_weights=True,\n",
    "    verbose=1\n",
    ")\n",
    "\n",
    "history = mixed_model.fit(\n",
    "    [X_img_train, X_meta_train], y_train,\n",
    "    validation_data=([X_img_test, X_meta_test], y_test),\n",
    "    batch_size=32,\n",
    "    epochs=20,\n",
    "    callbacks=[checkpoint, early_stopping]\n",
    ")"
   ],
   "metadata": {
    "collapsed": false,
    "ExecuteTime": {
     "end_time": "2025-05-10T02:57:16.455325Z",
     "start_time": "2025-05-10T02:41:33.605680Z"
    }
   },
   "id": "e5cc0350903a094d",
   "execution_count": 14
  },
  {
   "cell_type": "code",
   "outputs": [
    {
     "name": "stdout",
     "output_type": "stream",
     "text": [
      "Evaluating model\n",
      "\u001B[1m7/7\u001B[0m \u001B[32m━━━━━━━━━━━━━━━━━━━━\u001B[0m\u001B[37m\u001B[0m \u001B[1m6s\u001B[0m 780ms/step - accuracy: 0.8317 - loss: 0.4361\n",
      "Test Loss: 0.3859\n",
      "Test Accuracy: 0.8500\n"
     ]
    }
   ],
   "source": [
    "print(\"Evaluating model\")\n",
    "evaluation = mixed_model.evaluate([X_img_test, X_meta_test], y_test)\n",
    "print(f\"Test Loss: {evaluation[0]:.4f}\")\n",
    "print(f\"Test Accuracy: {evaluation[1]:.4f}\")"
   ],
   "metadata": {
    "collapsed": false,
    "ExecuteTime": {
     "end_time": "2025-05-10T02:57:23.309019Z",
     "start_time": "2025-05-10T02:57:16.459793Z"
    }
   },
   "id": "35b81b9e5fa01b6b",
   "execution_count": 15
  },
  {
   "cell_type": "code",
   "outputs": [
    {
     "data": {
      "text/plain": "<Figure size 1200x500 with 2 Axes>",
      "image/png": "[encoded data removed]"
     },
     "metadata": {},
     "output_type": "display_data"
    }
   ],
   "source": [
    "plt.figure(figsize=(12, 5))\n",
    "\n",
    "# Plot accuracy\n",
    "plt.subplot(1, 2, 1)\n",
    "plt.plot(history.history['accuracy'], label='Training Accuracy')\n",
    "plt.plot(history.history['val_accuracy'], label='Validation Accuracy')\n",
    "plt.title('Model Accuracy')\n",
    "plt.xlabel('Epoch')\n",
    "plt.ylabel('Accuracy')\n",
    "plt.legend()\n",
    "\n",
    "# Plot loss\n",
    "plt.subplot(1, 2, 2)\n",
    "plt.plot(history.history['loss'], label='Training Loss')\n",
    "plt.plot(history.history['val_loss'], label='Validation Loss')\n",
    "plt.title('Model Loss')\n",
    "plt.xlabel('Epoch')\n",
    "plt.ylabel('Loss')\n",
    "plt.legend()\n",
    "\n",
    "plt.tight_layout()\n",
    "plt.savefig('training_history_without_image_seg_max_accuracy.png')\n",
    "plt.show()"
   ],
   "metadata": {
    "collapsed": false,
    "ExecuteTime": {
     "end_time": "2025-05-10T02:57:23.974196Z",
     "start_time": "2025-05-10T02:57:23.317500Z"
    }
   },
   "id": "19a7fa50a8d2e448",
   "execution_count": 16
  },
  {
   "cell_type": "code",
   "outputs": [
    {
     "name": "stdout",
     "output_type": "stream",
     "text": [
      "\u001B[1m7/7\u001B[0m \u001B[32m━━━━━━━━━━━━━━━━━━━━\u001B[0m\u001B[37m\u001B[0m \u001B[1m6s\u001B[0m 838ms/step\n",
      "Precision: 0.6923\n",
      "Recall: 0.6000\n"
     ]
    },
    {
     "data": {
      "text/plain": "<Figure size 800x600 with 2 Axes>",
      "image/png": "[encoded data removed]"
     },
     "metadata": {},
     "output_type": "display_data"
    },
    {
     "name": "stdout",
     "output_type": "stream",
     "text": [
      "Classification Report:\n",
      "              precision    recall  f1-score   support\n",
      "\n",
      "      benign       0.89      0.92      0.91       155\n",
      "   malignant       0.69      0.60      0.64        45\n",
      "\n",
      "    accuracy                           0.85       200\n",
      "   macro avg       0.79      0.76      0.77       200\n",
      "weighted avg       0.84      0.85      0.85       200\n"
     ]
    }
   ],
   "source": [
    "from sklearn.metrics import precision_score, recall_score, confusion_matrix, classification_report\n",
    "\n",
    "# Make predictions on test set\n",
    "y_pred_prob = mixed_model.predict([X_img_test, X_meta_test])\n",
    "\n",
    "# Convert probabilities to binary predictions\n",
    "y_pred = (y_pred_prob > 0.5).astype(int).flatten()\n",
    "\n",
    "# Calculate precision and recall\n",
    "# Precision: \"When the model predicts 'malignant', how often is it correct?\"\n",
    "# Recall: \"Of all actual 'malignant' cases, how many did the model catch?\"\n",
    "precision = precision_score(y_test, y_pred)\n",
    "recall = recall_score(y_test, y_pred)\n",
    "\n",
    "print(f\"Precision: {precision:.4f}\")\n",
    "print(f\"Recall: {recall:.4f}\")\n",
    "\n",
    "# Calculate and display confusion matrix\n",
    "cm = confusion_matrix(y_test, y_pred)\n",
    "plt.figure(figsize=(8, 6))\n",
    "sns.heatmap(cm, annot=True, fmt='d', cmap='Blues',\n",
    "            xticklabels=label_encoder.classes_,\n",
    "            yticklabels=label_encoder.classes_)\n",
    "plt.xlabel('Predicted')\n",
    "plt.ylabel('True')\n",
    "plt.title('Confusion Matrix')\n",
    "plt.savefig('confusion_matrix_without_image_seg_max_accuracy.png')\n",
    "plt.show()\n",
    "\n",
    "print(\"Classification Report:\")\n",
    "print(classification_report(y_test, y_pred, target_names=label_encoder.classes_))"
   ],
   "metadata": {
    "collapsed": false,
    "ExecuteTime": {
     "end_time": "2025-05-10T02:57:30.524358Z",
     "start_time": "2025-05-10T02:57:23.977305Z"
    }
   },
   "id": "38b7bfd0a074909c",
   "execution_count": 17
  },
  {
   "cell_type": "code",
   "outputs": [
    {
     "name": "stdout",
     "output_type": "stream",
     "text": [
      "\u001B[1m1/1\u001B[0m \u001B[32m━━━━━━━━━━━━━━━━━━━━\u001B[0m\u001B[37m\u001B[0m \u001B[1m0s\u001B[0m 105ms/step\n",
      "Example 1: True: Benign, Predicted: Benign (Probability: 0.1490)\n",
      "Example 2: True: Benign, Predicted: Benign (Probability: 0.2258)\n",
      "Example 3: True: Benign, Predicted: Malignant (Probability: 0.8158)\n",
      "Example 4: True: Malignant, Predicted: Malignant (Probability: 0.6545)\n",
      "Example 5: True: Benign, Predicted: Benign (Probability: 0.0205)\n"
     ]
    }
   ],
   "source": [
    "# Make predictions on a few examples\n",
    "predictions = mixed_model.predict([X_img_test[:5], X_meta_test[:5]])\n",
    "\n",
    "for i in range(5):\n",
    "    true_label = \"Malignant\" if y_test[i] == 1 else \"Benign\"\n",
    "    if num_classes == 2:\n",
    "        pred_prob = predictions[i][0]\n",
    "        pred_label = \"Malignant\" if pred_prob > 0.5 else \"Benign\"\n",
    "        print(f\"Example {i+1}: True: {true_label}, Predicted: {pred_label} (Probability: {pred_prob:.4f})\")\n",
    "    else:\n",
    "        pred_class = np.argmax(predictions[i])\n",
    "        pred_label = label_encoder.inverse_transform([pred_class])[0]\n",
    "        print(f\"Example {i+1}: True: {true_label}, Predicted: {pred_label}\")"
   ],
   "metadata": {
    "collapsed": false,
    "ExecuteTime": {
     "end_time": "2025-05-10T02:57:30.677400Z",
     "start_time": "2025-05-10T02:57:30.529732Z"
    }
   },
   "id": "c538f6ab88385c4f",
   "execution_count": 18
  },
  {
   "cell_type": "code",
   "outputs": [],
   "source": [],
   "metadata": {
    "collapsed": false,
    "ExecuteTime": {
     "end_time": "2025-05-10T02:57:30.678217Z",
     "start_time": "2025-05-10T02:57:30.675250Z"
    }
   },
   "id": "de33a6fca7dc03f0",
   "execution_count": 18
  }
 ],
 "metadata": {
  "kernelspec": {
   "display_name": "Python 3",
   "language": "python",
   "name": "python3"
  },
  "language_info": {
   "codemirror_mode": {
    "name": "ipython",
    "version": 2
   },
   "file_extension": ".py",
   "mimetype": "text/x-python",
   "name": "python",
   "nbconvert_exporter": "python",
   "pygments_lexer": "ipython2",
   "version": "2.7.6"
  }
 },
 "nbformat": 4,
 "nbformat_minor": 5
}
