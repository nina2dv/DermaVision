{
 "cells": [
  {
   "cell_type": "code",
   "execution_count": 6,
   "id": "initial_id",
   "metadata": {
    "collapsed": true,
    "ExecuteTime": {
     "end_time": "2025-03-31T16:19:28.595833Z",
     "start_time": "2025-03-31T16:16:26.474226Z"
    }
   },
   "outputs": [
    {
     "name": "stderr",
     "output_type": "stream",
     "text": [
      "Matplotlib is building the font cache; this may take a moment.\n",
      "/Users/ninad/Projects/RBCSolveit/lib/python3.9/site-packages/urllib3/__init__.py:35: NotOpenSSLWarning: urllib3 v2 only supports OpenSSL 1.1.1+, currently the 'ssl' module is compiled with 'LibreSSL 2.8.3'. See: https://github.com/urllib3/urllib3/issues/3020\n",
      "  warnings.warn(\n"
     ]
    }
   ],
   "source": [
    "import os\n",
    "import numpy as np\n",
    "import pandas as pd\n",
    "import matplotlib.pyplot as plt\n",
    "import seaborn as sns\n",
    "from sklearn.model_selection import train_test_split\n",
    "from sklearn.preprocessing import StandardScaler, OneHotEncoder, LabelEncoder\n",
    "from sklearn.compose import ColumnTransformer\n",
    "from sklearn.pipeline import Pipeline\n",
    "from sklearn.impute import SimpleImputer\n",
    "\n",
    "import tensorflow as tf\n",
    "from tensorflow.keras.preprocessing.image import load_img, img_to_array\n",
    "from tensorflow.keras.models import Model, Sequential\n",
    "from tensorflow.keras.layers import Input, Dense, Dropout, Flatten\n",
    "from tensorflow.keras.layers import Conv2D, MaxPooling2D, BatchNormalization\n",
    "from tensorflow.keras.layers import Concatenate, GlobalAveragePooling2D\n",
    "from tensorflow.keras.applications import MobileNetV2\n",
    "from tensorflow.keras.optimizers import Adam\n",
    "from tensorflow.keras.callbacks import ModelCheckpoint, EarlyStopping"
   ]
  },
  {
   "cell_type": "code",
   "outputs": [],
   "source": [
    "# Set random seeds for reproducibility\n",
    "np.random.seed(42)\n",
    "tf.random.set_seed(42)\n",
    "\n",
    "# Path to your image directory and metadata file\n",
    "IMAGE_DIR = './ISIC-images'\n",
    "METADATA_PATH = './ISIC-images/metadata.csv'\n",
    "\n",
    "# Image dimensions\n",
    "IMG_WIDTH, IMG_HEIGHT = 224, 224"
   ],
   "metadata": {
    "collapsed": false,
    "ExecuteTime": {
     "end_time": "2025-04-07T15:33:53.751185Z",
     "start_time": "2025-04-07T15:33:53.742462Z"
    }
   },
   "id": "9b70863a6948d905",
   "execution_count": 28
  },
  {
   "cell_type": "code",
   "outputs": [
    {
     "name": "stdout",
     "output_type": "stream",
     "text": [
      "[INFO] Loading metadata...\n",
      "Total records: 2550\n",
      "Sample of metadata:\n"
     ]
    },
    {
     "data": {
      "text/plain": "        isic_id attribution copyright_license  acquisition_day  age_approx  \\\n0  ISIC_0009868   Anonymous              CC-0              NaN          70   \n1  ISIC_0009869   Anonymous              CC-0              NaN          40   \n2  ISIC_0009870   Anonymous              CC-0              NaN          40   \n3  ISIC_0009871   Anonymous              CC-0              NaN          45   \n4  ISIC_0009872   Anonymous              CC-0              NaN          50   \n\n  anatom_site_general anatom_site_special benign_malignant  \\\n0     posterior torso                 NaN        malignant   \n1     posterior torso                 NaN           benign   \n2     upper extremity                 NaN           benign   \n3     posterior torso                 NaN           benign   \n4           head/neck                 NaN           benign   \n\n   clin_size_long_diam_mm concomitant_biopsy  ...   image_type lesion_id  \\\n0                     4.0               True  ...  dermoscopic       NaN   \n1                     4.0               True  ...  dermoscopic       NaN   \n2                     3.0               True  ...  dermoscopic       NaN   \n3                     5.0               True  ...  dermoscopic       NaN   \n4                     3.0               True  ...  dermoscopic       NaN   \n\n  mel_class mel_thick_mm mel_ulcer melanocytic nevus_type patient_id  \\\n0       NaN          NaN       NaN        True        NaN        NaN   \n1       NaN          NaN       NaN        True        NaN        NaN   \n2       NaN          NaN       NaN        True        NaN        NaN   \n3       NaN          NaN       NaN        True        NaN        NaN   \n4       NaN          NaN       NaN        True        NaN        NaN   \n\n   personal_hx_mm     sex  \n0           False  female  \n1            True  female  \n2            True  female  \n3           False    male  \n4           False  female  \n\n[5 rows x 30 columns]",
      "text/html": "<div>\n<style scoped>\n    .dataframe tbody tr th:only-of-type {\n        vertical-align: middle;\n    }\n\n    .dataframe tbody tr th {\n        vertical-align: top;\n    }\n\n    .dataframe thead th {\n        text-align: right;\n    }\n</style>\n<table border=\"1\" class=\"dataframe\">\n  <thead>\n    <tr style=\"text-align: right;\">\n      <th></th>\n      <th>isic_id</th>\n      <th>attribution</th>\n      <th>copyright_license</th>\n      <th>acquisition_day</th>\n      <th>age_approx</th>\n      <th>anatom_site_general</th>\n      <th>anatom_site_special</th>\n      <th>benign_malignant</th>\n      <th>clin_size_long_diam_mm</th>\n      <th>concomitant_biopsy</th>\n      <th>...</th>\n      <th>image_type</th>\n      <th>lesion_id</th>\n      <th>mel_class</th>\n      <th>mel_thick_mm</th>\n      <th>mel_ulcer</th>\n      <th>melanocytic</th>\n      <th>nevus_type</th>\n      <th>patient_id</th>\n      <th>personal_hx_mm</th>\n      <th>sex</th>\n    </tr>\n  </thead>\n  <tbody>\n    <tr>\n      <th>0</th>\n      <td>ISIC_0009868</td>\n      <td>Anonymous</td>\n      <td>CC-0</td>\n      <td>NaN</td>\n      <td>70</td>\n      <td>posterior torso</td>\n      <td>NaN</td>\n      <td>malignant</td>\n      <td>4.0</td>\n      <td>True</td>\n      <td>...</td>\n      <td>dermoscopic</td>\n      <td>NaN</td>\n      <td>NaN</td>\n      <td>NaN</td>\n      <td>NaN</td>\n      <td>True</td>\n      <td>NaN</td>\n      <td>NaN</td>\n      <td>False</td>\n      <td>female</td>\n    </tr>\n    <tr>\n      <th>1</th>\n      <td>ISIC_0009869</td>\n      <td>Anonymous</td>\n      <td>CC-0</td>\n      <td>NaN</td>\n      <td>40</td>\n      <td>posterior torso</td>\n      <td>NaN</td>\n      <td>benign</td>\n      <td>4.0</td>\n      <td>True</td>\n      <td>...</td>\n      <td>dermoscopic</td>\n      <td>NaN</td>\n      <td>NaN</td>\n      <td>NaN</td>\n      <td>NaN</td>\n      <td>True</td>\n      <td>NaN</td>\n      <td>NaN</td>\n      <td>True</td>\n      <td>female</td>\n    </tr>\n    <tr>\n      <th>2</th>\n      <td>ISIC_0009870</td>\n      <td>Anonymous</td>\n      <td>CC-0</td>\n      <td>NaN</td>\n      <td>40</td>\n      <td>upper extremity</td>\n      <td>NaN</td>\n      <td>benign</td>\n      <td>3.0</td>\n      <td>True</td>\n      <td>...</td>\n      <td>dermoscopic</td>\n      <td>NaN</td>\n      <td>NaN</td>\n      <td>NaN</td>\n      <td>NaN</td>\n      <td>True</td>\n      <td>NaN</td>\n      <td>NaN</td>\n      <td>True</td>\n      <td>female</td>\n    </tr>\n    <tr>\n      <th>3</th>\n      <td>ISIC_0009871</td>\n      <td>Anonymous</td>\n      <td>CC-0</td>\n      <td>NaN</td>\n      <td>45</td>\n      <td>posterior torso</td>\n      <td>NaN</td>\n      <td>benign</td>\n      <td>5.0</td>\n      <td>True</td>\n      <td>...</td>\n      <td>dermoscopic</td>\n      <td>NaN</td>\n      <td>NaN</td>\n      <td>NaN</td>\n      <td>NaN</td>\n      <td>True</td>\n      <td>NaN</td>\n      <td>NaN</td>\n      <td>False</td>\n      <td>male</td>\n    </tr>\n    <tr>\n      <th>4</th>\n      <td>ISIC_0009872</td>\n      <td>Anonymous</td>\n      <td>CC-0</td>\n      <td>NaN</td>\n      <td>50</td>\n      <td>head/neck</td>\n      <td>NaN</td>\n      <td>benign</td>\n      <td>3.0</td>\n      <td>True</td>\n      <td>...</td>\n      <td>dermoscopic</td>\n      <td>NaN</td>\n      <td>NaN</td>\n      <td>NaN</td>\n      <td>NaN</td>\n      <td>True</td>\n      <td>NaN</td>\n      <td>NaN</td>\n      <td>False</td>\n      <td>female</td>\n    </tr>\n  </tbody>\n</table>\n<p>5 rows × 30 columns</p>\n</div>"
     },
     "execution_count": 29,
     "metadata": {},
     "output_type": "execute_result"
    }
   ],
   "source": [
    "# Load metadata\n",
    "print(\"[INFO] Loading metadata...\")\n",
    "metadata = pd.read_csv(METADATA_PATH)\n",
    "print(f\"Total records: {len(metadata)}\")\n",
    "\n",
    "# Display a sample of the data\n",
    "print(\"Sample of metadata:\")\n",
    "metadata.head()"
   ],
   "metadata": {
    "collapsed": false,
    "ExecuteTime": {
     "end_time": "2025-04-07T15:33:53.792564Z",
     "start_time": "2025-04-07T15:33:53.758121Z"
    }
   },
   "id": "44cdf31e4221d6c4",
   "execution_count": 29
  },
  {
   "cell_type": "code",
   "outputs": [
    {
     "data": {
      "text/plain": "Index(['isic_id', 'attribution', 'copyright_license', 'acquisition_day',\n       'age_approx', 'anatom_site_general', 'anatom_site_special',\n       'benign_malignant', 'clin_size_long_diam_mm', 'concomitant_biopsy',\n       'dermoscopic_type', 'diagnosis', 'diagnosis_1', 'diagnosis_2',\n       'diagnosis_3', 'diagnosis_4', 'diagnosis_5', 'diagnosis_confirm_type',\n       'family_hx_mm', 'fitzpatrick_skin_type', 'image_type', 'lesion_id',\n       'mel_class', 'mel_thick_mm', 'mel_ulcer', 'melanocytic', 'nevus_type',\n       'patient_id', 'personal_hx_mm', 'sex'],\n      dtype='object')"
     },
     "execution_count": 30,
     "metadata": {},
     "output_type": "execute_result"
    }
   ],
   "source": [
    "metadata.columns"
   ],
   "metadata": {
    "collapsed": false,
    "ExecuteTime": {
     "end_time": "2025-04-07T15:33:54.304285Z",
     "start_time": "2025-04-07T15:33:54.265350Z"
    }
   },
   "id": "9cee8d20a7aa1fc2",
   "execution_count": 30
  },
  {
   "cell_type": "code",
   "outputs": [
    {
     "name": "stdout",
     "output_type": "stream",
     "text": [
      "\n",
      "Target distribution:\n",
      "benign_malignant\n",
      "benign                     2015\n",
      "malignant                   468\n",
      "indeterminate/benign         33\n",
      "indeterminate/malignant      21\n",
      "indeterminate                 9\n",
      "Name: count, dtype: int64\n",
      "\n",
      "Missing values per column:\n",
      "isic_id                      0\n",
      "attribution                  0\n",
      "copyright_license            0\n",
      "acquisition_day           1613\n",
      "age_approx                   0\n",
      "anatom_site_general          0\n",
      "anatom_site_special       2537\n",
      "benign_malignant             4\n",
      "clin_size_long_diam_mm       0\n",
      "concomitant_biopsy          26\n",
      "dermoscopic_type          1695\n",
      "diagnosis                  359\n",
      "diagnosis_1                  1\n",
      "diagnosis_2                333\n",
      "diagnosis_3                372\n",
      "diagnosis_4               1320\n",
      "diagnosis_5               1945\n",
      "diagnosis_confirm_type       5\n",
      "family_hx_mm                 0\n",
      "fitzpatrick_skin_type     1924\n",
      "image_type                   0\n",
      "lesion_id                 1613\n",
      "mel_class                 2455\n",
      "mel_thick_mm              2504\n",
      "mel_ulcer                 2510\n",
      "melanocytic                358\n",
      "nevus_type                2542\n",
      "patient_id                1613\n",
      "personal_hx_mm               1\n",
      "sex                          0\n",
      "dtype: int64\n"
     ]
    }
   ],
   "source": [
    "# Display target distribution\n",
    "print(\"\\nTarget distribution:\")\n",
    "print(metadata['benign_malignant'].value_counts())\n",
    "\n",
    "# Check for missing values\n",
    "print(\"\\nMissing values per column:\")\n",
    "print(metadata.isnull().sum())"
   ],
   "metadata": {
    "collapsed": false,
    "ExecuteTime": {
     "end_time": "2025-04-07T15:33:54.666742Z",
     "start_time": "2025-04-07T15:33:54.660216Z"
    }
   },
   "id": "5db1569be225aaa4",
   "execution_count": 31
  },
  {
   "cell_type": "code",
   "outputs": [
    {
     "data": {
      "text/plain": "isic_id                      0\nattribution                  0\ncopyright_license            0\nacquisition_day           1613\nage_approx                   0\nanatom_site_general          0\nanatom_site_special       2537\nbenign_malignant             4\nclin_size_long_diam_mm       0\nconcomitant_biopsy          26\ndermoscopic_type          1695\ndiagnosis                  359\ndiagnosis_1                  1\ndiagnosis_2                333\ndiagnosis_3                372\ndiagnosis_4               1320\ndiagnosis_5               1945\ndiagnosis_confirm_type       5\nfamily_hx_mm                 0\nfitzpatrick_skin_type     1924\nimage_type                   0\nlesion_id                 1613\nmel_class                 2455\nmel_thick_mm              2504\nmel_ulcer                 2510\nmelanocytic                358\nnevus_type                2542\npatient_id                1613\npersonal_hx_mm               1\nsex                          0\ndtype: int64"
     },
     "execution_count": 32,
     "metadata": {},
     "output_type": "execute_result"
    }
   ],
   "source": [
    "metadata.isnull().sum()"
   ],
   "metadata": {
    "collapsed": false,
    "ExecuteTime": {
     "end_time": "2025-04-07T15:33:55.436920Z",
     "start_time": "2025-04-07T15:33:55.431469Z"
    }
   },
   "id": "7d0775d8cc163a5a",
   "execution_count": 32
  },
  {
   "cell_type": "code",
   "outputs": [
    {
     "name": "stdout",
     "output_type": "stream",
     "text": [
      "\n",
      "[INFO] Analyzing feature correlations...\n",
      "\n",
      "Numeric feature correlations:\n",
      "target_encoded            1.000000\n",
      "age_approx                0.341762\n",
      "clin_size_long_diam_mm    0.294884\n",
      "Name: target_encoded, dtype: float64\n",
      "\n",
      "Top categorical feature correlations:\n",
      "\n",
      "Category 1:\n",
      "anatom_site_general_head/neck          0.172671\n",
      "anatom_site_general_upper extremity    0.064013\n",
      "anatom_site_general_palms/soles       -0.007914\n",
      "Name: target_encoded, dtype: float64\n",
      "\n",
      "Category 2:\n",
      "sex_male      0.120135\n",
      "sex_female   -0.120135\n",
      "Name: target_encoded, dtype: float64\n",
      "\n",
      "Category 3:\n",
      "fitzpatrick_skin_type_I     0.081510\n",
      "fitzpatrick_skin_type_II    0.004840\n",
      "fitzpatrick_skin_type_IV   -0.021207\n",
      "Name: target_encoded, dtype: float64\n",
      "\n",
      "Category 4:\n",
      "melanocytic_True     0.021798\n",
      "melanocytic_False   -0.021798\n",
      "Name: target_encoded, dtype: float64\n",
      "\n",
      "Selected features for MLP branch: ['anatom_site_general', 'dermoscopic_type', 'fitzpatrick_skin_type', 'sex', 'age_approx', 'clin_size_long_diam_mm']\n"
     ]
    },
    {
     "name": "stderr",
     "output_type": "stream",
     "text": [
      "/var/folders/kw/fxbbvv5x7lvct1l7rdc18tkw0000gn/T/ipykernel_36606/3358278318.py:12: FutureWarning: Downcasting object dtype arrays on .fillna, .ffill, .bfill is deprecated and will change in a future version. Call result.infer_objects(copy=False) instead. To opt-in to the future behavior, set `pd.set_option('future.no_silent_downcasting', True)`\n",
      "  analysis_df[col] = analysis_df[col].fillna(analysis_df[col].mode()[0])\n"
     ]
    }
   ],
   "source": [
    "# Function to analyze correlations between features and target\n",
    "def analyze_feature_correlations(df, target_col='benign_malignant'):\n",
    "    \"\"\"Analyze correlations between features and target.\"\"\"\n",
    "    # Make a copy of the DataFrame\n",
    "    analysis_df = df.copy()\n",
    "    \n",
    "    # Handle missing values for analysis\n",
    "    for col in analysis_df.select_dtypes(include=['float64', 'int64']).columns:\n",
    "        analysis_df[col] = analysis_df[col].fillna(analysis_df[col].median())\n",
    "    \n",
    "    for col in analysis_df.select_dtypes(include=['object']).columns:\n",
    "        analysis_df[col] = analysis_df[col].fillna(analysis_df[col].mode()[0])\n",
    "    \n",
    "    # Encode target variable\n",
    "    le = LabelEncoder()\n",
    "    analysis_df['target_encoded'] = le.fit_transform(analysis_df[target_col])\n",
    "    \n",
    "    # Analyze numeric features\n",
    "    numeric_cols = ['age_approx', 'clin_size_long_diam_mm']\n",
    "    numeric_df = analysis_df[numeric_cols + ['target_encoded']].copy()\n",
    "    numeric_corr = numeric_df.corr()['target_encoded'].sort_values(ascending=False)\n",
    "    \n",
    "    # Analyze categorical features\n",
    "    categorical_cols = ['anatom_site_general', 'sex', 'fitzpatrick_skin_type', 'melanocytic']\n",
    "    categorical_corrs = []\n",
    "    \n",
    "    for col in categorical_cols:\n",
    "        if col in analysis_df.columns:\n",
    "            # Create dummy variables\n",
    "            dummies = pd.get_dummies(analysis_df[col], prefix=col)\n",
    "            # Merge with target\n",
    "            merged = pd.concat([dummies, analysis_df['target_encoded']], axis=1)\n",
    "            # Calculate correlations\n",
    "            corr = merged.corr()['target_encoded'].drop('target_encoded')\n",
    "            categorical_corrs.append(corr)\n",
    "    \n",
    "    return numeric_corr, categorical_corrs\n",
    "\n",
    "# Run correlation analysis\n",
    "print(\"\\n[INFO] Analyzing feature correlations...\")\n",
    "numeric_corr, categorical_corrs = analyze_feature_correlations(metadata)\n",
    "\n",
    "print(\"\\nNumeric feature correlations:\")\n",
    "print(numeric_corr)\n",
    "\n",
    "print(\"\\nTop categorical feature correlations:\")\n",
    "for i, corr in enumerate(categorical_corrs):\n",
    "    print(f\"\\nCategory {i+1}:\")\n",
    "    print(corr.sort_values(ascending=False).head(3))\n",
    "\n",
    "# Based on correlation analysis, select features for the MLP branch\n",
    "selected_features = ['anatom_site_general', 'dermoscopic_type', 'fitzpatrick_skin_type', 'sex', 'age_approx', 'clin_size_long_diam_mm']\n",
    "print(f\"\\nSelected features for MLP branch: {selected_features}\")"
   ],
   "metadata": {
    "collapsed": false,
    "ExecuteTime": {
     "end_time": "2025-04-07T15:34:20.716584Z",
     "start_time": "2025-04-07T15:34:20.642190Z"
    }
   },
   "id": "17bbea71dcb3d4f7",
   "execution_count": 36
  },
  {
   "cell_type": "code",
   "outputs": [],
   "source": [
    "# Function to load and preprocess an image\n",
    "def load_and_preprocess_image(img_path, target_size=(IMG_WIDTH, IMG_HEIGHT)):\n",
    "    \"\"\"Load and preprocess an image for the CNN branch.\"\"\"\n",
    "    try:\n",
    "        img = load_img(img_path, target_size=target_size)\n",
    "        img_array = img_to_array(img)\n",
    "        img_array = img_array / 255.0  # Normalize to [0,1]\n",
    "        return img_array\n",
    "    except Exception as e:\n",
    "        print(f\"Error loading image {img_path}: {e}\")\n",
    "        # Return a blank image if there's an error\n",
    "        return np.zeros((target_size[0], target_size[1], 3))\n",
    "\n",
    "# Function to preprocess metadata for MLP branch\n",
    "def preprocess_metadata(df, selected_features, target_col='benign_malignant'):\n",
    "    \"\"\"Preprocess metadata for the MLP branch.\"\"\"\n",
    "    # Drop rows with missing target or missing isic_id\n",
    "    df = df.dropna(subset=[target_col, 'isic_id'])\n",
    "    \n",
    "    # Create a copy with only the selected features and target\n",
    "    df_selected = df[selected_features + [target_col]].copy()\n",
    "    \n",
    "    # Split features and target\n",
    "    X = df_selected.drop(columns=[target_col])\n",
    "    y = df_selected[target_col]\n",
    "    \n",
    "    # Encode target\n",
    "    le = LabelEncoder()\n",
    "    y_encoded = le.fit_transform(y)\n",
    "    \n",
    "    # Identify numeric and categorical columns\n",
    "    numeric_cols = X.select_dtypes(include=['float64', 'int64']).columns.tolist()\n",
    "    categorical_cols = X.select_dtypes(include=['object']).columns.tolist()\n",
    "    \n",
    "    # Create preprocessor\n",
    "    preprocessor = ColumnTransformer(\n",
    "        transformers=[\n",
    "            ('num', Pipeline([\n",
    "                ('imputer', SimpleImputer(strategy='median')),\n",
    "                ('scaler', StandardScaler())\n",
    "            ]), numeric_cols),\n",
    "            ('cat', Pipeline([\n",
    "                ('imputer', SimpleImputer(strategy='most_frequent')),\n",
    "                ('onehot', OneHotEncoder(handle_unknown='ignore'))\n",
    "            ]), categorical_cols)\n",
    "        ],\n",
    "        remainder='drop'\n",
    "    )\n",
    "    \n",
    "    # Fit and transform\n",
    "    X_processed = preprocessor.fit_transform(X)\n",
    "    \n",
    "    return X_processed, y_encoded, preprocessor, le, df['isic_id'].values"
   ],
   "metadata": {
    "collapsed": false,
    "ExecuteTime": {
     "end_time": "2025-04-07T15:34:21.183315Z",
     "start_time": "2025-04-07T15:34:21.176661Z"
    }
   },
   "id": "b068b8a80af6a3d5",
   "execution_count": 37
  },
  {
   "cell_type": "code",
   "outputs": [
    {
     "name": "stdout",
     "output_type": "stream",
     "text": [
      "\n",
      "[INFO] Preprocessing metadata...\n",
      "Metadata shape after preprocessing: (2546, 18)\n",
      "Number of classes: 5\n",
      "\n",
      "[INFO] Splitting data into train and test sets...\n",
      "Training set size: 2036\n",
      "Test set size: 510\n"
     ]
    }
   ],
   "source": [
    "\n",
    "# Preprocess metadata\n",
    "print(\"\\n[INFO] Preprocessing metadata...\")\n",
    "X_meta, y, preprocessor, label_encoder, isic_ids = preprocess_metadata(metadata, selected_features)\n",
    "print(f\"Metadata shape after preprocessing: {X_meta.shape}\")\n",
    "print(f\"Number of classes: {len(np.unique(y))}\")\n",
    "\n",
    "# Create image paths\n",
    "image_paths = [os.path.join(IMAGE_DIR, f\"{id}.jpg\") for id in isic_ids]\n",
    "\n",
    "# Split data into train and test sets\n",
    "print(\"\\n[INFO] Splitting data into train and test sets...\")\n",
    "X_meta_train, X_meta_test, X_img_paths_train, X_img_paths_test, y_train, y_test = train_test_split(\n",
    "    X_meta, image_paths, y, test_size=0.2, random_state=42, stratify=y\n",
    ")\n",
    "\n",
    "print(f\"Training set size: {len(X_meta_train)}\")\n",
    "print(f\"Test set size: {len(X_meta_test)}\")"
   ],
   "metadata": {
    "collapsed": false,
    "ExecuteTime": {
     "end_time": "2025-04-07T15:34:21.858330Z",
     "start_time": "2025-04-07T15:34:21.821406Z"
    }
   },
   "id": "e7c78ad28a444849",
   "execution_count": 38
  },
  {
   "cell_type": "code",
   "outputs": [
    {
     "name": "stdout",
     "output_type": "stream",
     "text": [
      "\n",
      "[INFO] Limiting training set to 1000 images for memory constraints\n",
      "[INFO] Limiting test set to 200 images\n",
      "\n",
      "[INFO] Loading images...\n",
      "Image data shape: (1000, 224, 224, 3)\n",
      "Metadata shape: (1000, 18)\n"
     ]
    }
   ],
   "source": [
    "# For demonstration, limit the number of images to load (adjust based on your memory)\n",
    "MAX_IMAGES = 1000  # Adjust as needed\n",
    "if len(X_img_paths_train) > MAX_IMAGES:\n",
    "    print(f\"\\n[INFO] Limiting training set to {MAX_IMAGES} images for memory constraints\")\n",
    "    indices = np.random.choice(len(X_img_paths_train), MAX_IMAGES, replace=False)\n",
    "    X_img_paths_train = [X_img_paths_train[i] for i in indices]\n",
    "    X_meta_train = X_meta_train[indices]\n",
    "    y_train = y_train[indices]\n",
    "\n",
    "if len(X_img_paths_test) > MAX_IMAGES // 5:\n",
    "    test_size = MAX_IMAGES // 5\n",
    "    print(f\"[INFO] Limiting test set to {test_size} images\")\n",
    "    indices = np.random.choice(len(X_img_paths_test), test_size, replace=False)\n",
    "    X_img_paths_test = [X_img_paths_test[i] for i in indices]\n",
    "    X_meta_test = X_meta_test[indices]\n",
    "    y_test = y_test[indices]\n",
    "\n",
    "# Load images\n",
    "print(\"\\n[INFO] Loading images...\")\n",
    "X_img_train = np.array([load_and_preprocess_image(path) for path in X_img_paths_train])\n",
    "X_img_test = np.array([load_and_preprocess_image(path) for path in X_img_paths_test])\n",
    "\n",
    "print(f\"Image data shape: {X_img_train.shape}\")\n",
    "print(f\"Metadata shape: {X_meta_train.shape}\")"
   ],
   "metadata": {
    "collapsed": false,
    "ExecuteTime": {
     "end_time": "2025-04-07T15:34:48.448872Z",
     "start_time": "2025-04-07T15:34:23.159100Z"
    }
   },
   "id": "838f67f70e2f7ef3",
   "execution_count": 40
  },
  {
   "cell_type": "code",
   "outputs": [],
   "source": [
    "# Define CNN branch (for images)\n",
    "def create_cnn_branch(input_shape=(IMG_WIDTH, IMG_HEIGHT, 3)):\n",
    "    \"\"\"Create CNN branch for image data.\"\"\"\n",
    "    # Use a pre-trained model as the base\n",
    "    base_model = MobileNetV2(weights='imagenet', include_top=False, input_shape=input_shape)\n",
    "    \n",
    "    # Freeze the base model\n",
    "    base_model.trainable = False\n",
    "    \n",
    "    # Create the CNN branch\n",
    "    inputs = Input(shape=input_shape)\n",
    "    x = base_model(inputs)\n",
    "    x = GlobalAveragePooling2D()(x)\n",
    "    x = Dense(256, activation='relu')(x)\n",
    "    x = Dropout(0.5)(x)\n",
    "    \n",
    "    return inputs, x\n",
    "\n",
    "# Define MLP branch (for metadata)\n",
    "def create_mlp_branch(input_dim):\n",
    "    \"\"\"Create MLP branch for metadata.\"\"\"\n",
    "    inputs = Input(shape=(input_dim,))\n",
    "    x = Dense(128, activation='relu')(inputs)\n",
    "    x = BatchNormalization()(x)\n",
    "    x = Dropout(0.3)(x)\n",
    "    x = Dense(64, activation='relu')(x)\n",
    "    x = BatchNormalization()(x)\n",
    "    x = Dropout(0.3)(x)\n",
    "    \n",
    "    return inputs, x\n",
    "\n",
    "# Create the mixed input model\n",
    "def create_mixed_input_model(img_shape=(IMG_WIDTH, IMG_HEIGHT, 3), meta_dim=None, num_classes=2):\n",
    "    \"\"\"Create a model with both CNN and MLP branches.\"\"\"\n",
    "    # Create branches\n",
    "    img_input, cnn_output = create_cnn_branch(img_shape)\n",
    "    meta_input, mlp_output = create_mlp_branch(meta_dim)\n",
    "    \n",
    "    # Combine branches\n",
    "    combined = Concatenate()([cnn_output, mlp_output])\n",
    "    \n",
    "    # Add final layers\n",
    "    x = Dense(128, activation='relu')(combined)\n",
    "    x = BatchNormalization()(x)\n",
    "    x = Dropout(0.5)(x)\n",
    "    \n",
    "    # Add output layer based on number of classes\n",
    "    if num_classes == 2:\n",
    "        output = Dense(1, activation='sigmoid')(x)\n",
    "        loss = 'binary_crossentropy'\n",
    "    else:\n",
    "        output = Dense(num_classes, activation='softmax')(x)\n",
    "        loss = 'sparse_categorical_crossentropy'\n",
    "    \n",
    "    # Create model\n",
    "    model = Model(inputs=[img_input, meta_input], outputs=output)\n",
    "    \n",
    "    # Compile model\n",
    "    model.compile(\n",
    "        optimizer=Adam(learning_rate=0.001),\n",
    "        loss=loss,\n",
    "        metrics=['accuracy']\n",
    "    )\n",
    "    \n",
    "    return model"
   ],
   "metadata": {
    "collapsed": false,
    "ExecuteTime": {
     "end_time": "2025-04-07T15:35:16.755887Z",
     "start_time": "2025-04-07T15:35:16.751239Z"
    }
   },
   "id": "c2841bbb6743054a",
   "execution_count": 41
  },
  {
   "cell_type": "code",
   "outputs": [
    {
     "name": "stdout",
     "output_type": "stream",
     "text": [
      "\n",
      "[INFO] Creating mixed input model...\n"
     ]
    },
    {
     "data": {
      "text/plain": "\u001B[1mModel: \"functional_1\"\u001B[0m\n",
      "text/html": "<pre style=\"white-space:pre;overflow-x:auto;line-height:normal;font-family:Menlo,'DejaVu Sans Mono',consolas,'Courier New',monospace\"><span style=\"font-weight: bold\">Model: \"functional_1\"</span>\n</pre>\n"
     },
     "metadata": {},
     "output_type": "display_data"
    },
    {
     "data": {
      "text/plain": "┏━━━━━━━━━━━━━━━━━━━━━┳━━━━━━━━━━━━━━━━━━━┳━━━━━━━━━━━━┳━━━━━━━━━━━━━━━━━━━┓\n┃\u001B[1m \u001B[0m\u001B[1mLayer (type)       \u001B[0m\u001B[1m \u001B[0m┃\u001B[1m \u001B[0m\u001B[1mOutput Shape     \u001B[0m\u001B[1m \u001B[0m┃\u001B[1m \u001B[0m\u001B[1m   Param #\u001B[0m\u001B[1m \u001B[0m┃\u001B[1m \u001B[0m\u001B[1mConnected to     \u001B[0m\u001B[1m \u001B[0m┃\n┡━━━━━━━━━━━━━━━━━━━━━╇━━━━━━━━━━━━━━━━━━━╇━━━━━━━━━━━━╇━━━━━━━━━━━━━━━━━━━┩\n│ input_layer_5       │ (\u001B[38;5;45mNone\u001B[0m, \u001B[38;5;34m18\u001B[0m)        │          \u001B[38;5;34m0\u001B[0m │ -                 │\n│ (\u001B[38;5;33mInputLayer\u001B[0m)        │                   │            │                   │\n├─────────────────────┼───────────────────┼────────────┼───────────────────┤\n│ dense_6 (\u001B[38;5;33mDense\u001B[0m)     │ (\u001B[38;5;45mNone\u001B[0m, \u001B[38;5;34m128\u001B[0m)       │      \u001B[38;5;34m2,432\u001B[0m │ input_layer_5[\u001B[38;5;34m0\u001B[0m]… │\n├─────────────────────┼───────────────────┼────────────┼───────────────────┤\n│ input_layer_4       │ (\u001B[38;5;45mNone\u001B[0m, \u001B[38;5;34m224\u001B[0m, \u001B[38;5;34m224\u001B[0m,  │          \u001B[38;5;34m0\u001B[0m │ -                 │\n│ (\u001B[38;5;33mInputLayer\u001B[0m)        │ \u001B[38;5;34m3\u001B[0m)                │            │                   │\n├─────────────────────┼───────────────────┼────────────┼───────────────────┤\n│ batch_normalizatio… │ (\u001B[38;5;45mNone\u001B[0m, \u001B[38;5;34m128\u001B[0m)       │        \u001B[38;5;34m512\u001B[0m │ dense_6[\u001B[38;5;34m0\u001B[0m][\u001B[38;5;34m0\u001B[0m]     │\n│ (\u001B[38;5;33mBatchNormalizatio…\u001B[0m │                   │            │                   │\n├─────────────────────┼───────────────────┼────────────┼───────────────────┤\n│ mobilenetv2_1.00_2… │ (\u001B[38;5;45mNone\u001B[0m, \u001B[38;5;34m7\u001B[0m, \u001B[38;5;34m7\u001B[0m,      │  \u001B[38;5;34m2,257,984\u001B[0m │ input_layer_4[\u001B[38;5;34m0\u001B[0m]… │\n│ (\u001B[38;5;33mFunctional\u001B[0m)        │ \u001B[38;5;34m1280\u001B[0m)             │            │                   │\n├─────────────────────┼───────────────────┼────────────┼───────────────────┤\n│ dropout_5 (\u001B[38;5;33mDropout\u001B[0m) │ (\u001B[38;5;45mNone\u001B[0m, \u001B[38;5;34m128\u001B[0m)       │          \u001B[38;5;34m0\u001B[0m │ batch_normalizat… │\n├─────────────────────┼───────────────────┼────────────┼───────────────────┤\n│ global_average_poo… │ (\u001B[38;5;45mNone\u001B[0m, \u001B[38;5;34m1280\u001B[0m)      │          \u001B[38;5;34m0\u001B[0m │ mobilenetv2_1.00… │\n│ (\u001B[38;5;33mGlobalAveragePool…\u001B[0m │                   │            │                   │\n├─────────────────────┼───────────────────┼────────────┼───────────────────┤\n│ dense_7 (\u001B[38;5;33mDense\u001B[0m)     │ (\u001B[38;5;45mNone\u001B[0m, \u001B[38;5;34m64\u001B[0m)        │      \u001B[38;5;34m8,256\u001B[0m │ dropout_5[\u001B[38;5;34m0\u001B[0m][\u001B[38;5;34m0\u001B[0m]   │\n├─────────────────────┼───────────────────┼────────────┼───────────────────┤\n│ dense_5 (\u001B[38;5;33mDense\u001B[0m)     │ (\u001B[38;5;45mNone\u001B[0m, \u001B[38;5;34m256\u001B[0m)       │    \u001B[38;5;34m327,936\u001B[0m │ global_average_p… │\n├─────────────────────┼───────────────────┼────────────┼───────────────────┤\n│ batch_normalizatio… │ (\u001B[38;5;45mNone\u001B[0m, \u001B[38;5;34m64\u001B[0m)        │        \u001B[38;5;34m256\u001B[0m │ dense_7[\u001B[38;5;34m0\u001B[0m][\u001B[38;5;34m0\u001B[0m]     │\n│ (\u001B[38;5;33mBatchNormalizatio…\u001B[0m │                   │            │                   │\n├─────────────────────┼───────────────────┼────────────┼───────────────────┤\n│ dropout_4 (\u001B[38;5;33mDropout\u001B[0m) │ (\u001B[38;5;45mNone\u001B[0m, \u001B[38;5;34m256\u001B[0m)       │          \u001B[38;5;34m0\u001B[0m │ dense_5[\u001B[38;5;34m0\u001B[0m][\u001B[38;5;34m0\u001B[0m]     │\n├─────────────────────┼───────────────────┼────────────┼───────────────────┤\n│ dropout_6 (\u001B[38;5;33mDropout\u001B[0m) │ (\u001B[38;5;45mNone\u001B[0m, \u001B[38;5;34m64\u001B[0m)        │          \u001B[38;5;34m0\u001B[0m │ batch_normalizat… │\n├─────────────────────┼───────────────────┼────────────┼───────────────────┤\n│ concatenate_1       │ (\u001B[38;5;45mNone\u001B[0m, \u001B[38;5;34m320\u001B[0m)       │          \u001B[38;5;34m0\u001B[0m │ dropout_4[\u001B[38;5;34m0\u001B[0m][\u001B[38;5;34m0\u001B[0m],  │\n│ (\u001B[38;5;33mConcatenate\u001B[0m)       │                   │            │ dropout_6[\u001B[38;5;34m0\u001B[0m][\u001B[38;5;34m0\u001B[0m]   │\n├─────────────────────┼───────────────────┼────────────┼───────────────────┤\n│ dense_8 (\u001B[38;5;33mDense\u001B[0m)     │ (\u001B[38;5;45mNone\u001B[0m, \u001B[38;5;34m128\u001B[0m)       │     \u001B[38;5;34m41,088\u001B[0m │ concatenate_1[\u001B[38;5;34m0\u001B[0m]… │\n├─────────────────────┼───────────────────┼────────────┼───────────────────┤\n│ batch_normalizatio… │ (\u001B[38;5;45mNone\u001B[0m, \u001B[38;5;34m128\u001B[0m)       │        \u001B[38;5;34m512\u001B[0m │ dense_8[\u001B[38;5;34m0\u001B[0m][\u001B[38;5;34m0\u001B[0m]     │\n│ (\u001B[38;5;33mBatchNormalizatio…\u001B[0m │                   │            │                   │\n├─────────────────────┼───────────────────┼────────────┼───────────────────┤\n│ dropout_7 (\u001B[38;5;33mDropout\u001B[0m) │ (\u001B[38;5;45mNone\u001B[0m, \u001B[38;5;34m128\u001B[0m)       │          \u001B[38;5;34m0\u001B[0m │ batch_normalizat… │\n├─────────────────────┼───────────────────┼────────────┼───────────────────┤\n│ dense_9 (\u001B[38;5;33mDense\u001B[0m)     │ (\u001B[38;5;45mNone\u001B[0m, \u001B[38;5;34m5\u001B[0m)         │        \u001B[38;5;34m645\u001B[0m │ dropout_7[\u001B[38;5;34m0\u001B[0m][\u001B[38;5;34m0\u001B[0m]   │\n└─────────────────────┴───────────────────┴────────────┴───────────────────┘\n",
      "text/html": "<pre style=\"white-space:pre;overflow-x:auto;line-height:normal;font-family:Menlo,'DejaVu Sans Mono',consolas,'Courier New',monospace\">┏━━━━━━━━━━━━━━━━━━━━━┳━━━━━━━━━━━━━━━━━━━┳━━━━━━━━━━━━┳━━━━━━━━━━━━━━━━━━━┓\n┃<span style=\"font-weight: bold\"> Layer (type)        </span>┃<span style=\"font-weight: bold\"> Output Shape      </span>┃<span style=\"font-weight: bold\">    Param # </span>┃<span style=\"font-weight: bold\"> Connected to      </span>┃\n┡━━━━━━━━━━━━━━━━━━━━━╇━━━━━━━━━━━━━━━━━━━╇━━━━━━━━━━━━╇━━━━━━━━━━━━━━━━━━━┩\n│ input_layer_5       │ (<span style=\"color: #00d7ff; text-decoration-color: #00d7ff\">None</span>, <span style=\"color: #00af00; text-decoration-color: #00af00\">18</span>)        │          <span style=\"color: #00af00; text-decoration-color: #00af00\">0</span> │ -                 │\n│ (<span style=\"color: #0087ff; text-decoration-color: #0087ff\">InputLayer</span>)        │                   │            │                   │\n├─────────────────────┼───────────────────┼────────────┼───────────────────┤\n│ dense_6 (<span style=\"color: #0087ff; text-decoration-color: #0087ff\">Dense</span>)     │ (<span style=\"color: #00d7ff; text-decoration-color: #00d7ff\">None</span>, <span style=\"color: #00af00; text-decoration-color: #00af00\">128</span>)       │      <span style=\"color: #00af00; text-decoration-color: #00af00\">2,432</span> │ input_layer_5[<span style=\"color: #00af00; text-decoration-color: #00af00\">0</span>]… │\n├─────────────────────┼───────────────────┼────────────┼───────────────────┤\n│ input_layer_4       │ (<span style=\"color: #00d7ff; text-decoration-color: #00d7ff\">None</span>, <span style=\"color: #00af00; text-decoration-color: #00af00\">224</span>, <span style=\"color: #00af00; text-decoration-color: #00af00\">224</span>,  │          <span style=\"color: #00af00; text-decoration-color: #00af00\">0</span> │ -                 │\n│ (<span style=\"color: #0087ff; text-decoration-color: #0087ff\">InputLayer</span>)        │ <span style=\"color: #00af00; text-decoration-color: #00af00\">3</span>)                │            │                   │\n├─────────────────────┼───────────────────┼────────────┼───────────────────┤\n│ batch_normalizatio… │ (<span style=\"color: #00d7ff; text-decoration-color: #00d7ff\">None</span>, <span style=\"color: #00af00; text-decoration-color: #00af00\">128</span>)       │        <span style=\"color: #00af00; text-decoration-color: #00af00\">512</span> │ dense_6[<span style=\"color: #00af00; text-decoration-color: #00af00\">0</span>][<span style=\"color: #00af00; text-decoration-color: #00af00\">0</span>]     │\n│ (<span style=\"color: #0087ff; text-decoration-color: #0087ff\">BatchNormalizatio…</span> │                   │            │                   │\n├─────────────────────┼───────────────────┼────────────┼───────────────────┤\n│ mobilenetv2_1.00_2… │ (<span style=\"color: #00d7ff; text-decoration-color: #00d7ff\">None</span>, <span style=\"color: #00af00; text-decoration-color: #00af00\">7</span>, <span style=\"color: #00af00; text-decoration-color: #00af00\">7</span>,      │  <span style=\"color: #00af00; text-decoration-color: #00af00\">2,257,984</span> │ input_layer_4[<span style=\"color: #00af00; text-decoration-color: #00af00\">0</span>]… │\n│ (<span style=\"color: #0087ff; text-decoration-color: #0087ff\">Functional</span>)        │ <span style=\"color: #00af00; text-decoration-color: #00af00\">1280</span>)             │            │                   │\n├─────────────────────┼───────────────────┼────────────┼───────────────────┤\n│ dropout_5 (<span style=\"color: #0087ff; text-decoration-color: #0087ff\">Dropout</span>) │ (<span style=\"color: #00d7ff; text-decoration-color: #00d7ff\">None</span>, <span style=\"color: #00af00; text-decoration-color: #00af00\">128</span>)       │          <span style=\"color: #00af00; text-decoration-color: #00af00\">0</span> │ batch_normalizat… │\n├─────────────────────┼───────────────────┼────────────┼───────────────────┤\n│ global_average_poo… │ (<span style=\"color: #00d7ff; text-decoration-color: #00d7ff\">None</span>, <span style=\"color: #00af00; text-decoration-color: #00af00\">1280</span>)      │          <span style=\"color: #00af00; text-decoration-color: #00af00\">0</span> │ mobilenetv2_1.00… │\n│ (<span style=\"color: #0087ff; text-decoration-color: #0087ff\">GlobalAveragePool…</span> │                   │            │                   │\n├─────────────────────┼───────────────────┼────────────┼───────────────────┤\n│ dense_7 (<span style=\"color: #0087ff; text-decoration-color: #0087ff\">Dense</span>)     │ (<span style=\"color: #00d7ff; text-decoration-color: #00d7ff\">None</span>, <span style=\"color: #00af00; text-decoration-color: #00af00\">64</span>)        │      <span style=\"color: #00af00; text-decoration-color: #00af00\">8,256</span> │ dropout_5[<span style=\"color: #00af00; text-decoration-color: #00af00\">0</span>][<span style=\"color: #00af00; text-decoration-color: #00af00\">0</span>]   │\n├─────────────────────┼───────────────────┼────────────┼───────────────────┤\n│ dense_5 (<span style=\"color: #0087ff; text-decoration-color: #0087ff\">Dense</span>)     │ (<span style=\"color: #00d7ff; text-decoration-color: #00d7ff\">None</span>, <span style=\"color: #00af00; text-decoration-color: #00af00\">256</span>)       │    <span style=\"color: #00af00; text-decoration-color: #00af00\">327,936</span> │ global_average_p… │\n├─────────────────────┼───────────────────┼────────────┼───────────────────┤\n│ batch_normalizatio… │ (<span style=\"color: #00d7ff; text-decoration-color: #00d7ff\">None</span>, <span style=\"color: #00af00; text-decoration-color: #00af00\">64</span>)        │        <span style=\"color: #00af00; text-decoration-color: #00af00\">256</span> │ dense_7[<span style=\"color: #00af00; text-decoration-color: #00af00\">0</span>][<span style=\"color: #00af00; text-decoration-color: #00af00\">0</span>]     │\n│ (<span style=\"color: #0087ff; text-decoration-color: #0087ff\">BatchNormalizatio…</span> │                   │            │                   │\n├─────────────────────┼───────────────────┼────────────┼───────────────────┤\n│ dropout_4 (<span style=\"color: #0087ff; text-decoration-color: #0087ff\">Dropout</span>) │ (<span style=\"color: #00d7ff; text-decoration-color: #00d7ff\">None</span>, <span style=\"color: #00af00; text-decoration-color: #00af00\">256</span>)       │          <span style=\"color: #00af00; text-decoration-color: #00af00\">0</span> │ dense_5[<span style=\"color: #00af00; text-decoration-color: #00af00\">0</span>][<span style=\"color: #00af00; text-decoration-color: #00af00\">0</span>]     │\n├─────────────────────┼───────────────────┼────────────┼───────────────────┤\n│ dropout_6 (<span style=\"color: #0087ff; text-decoration-color: #0087ff\">Dropout</span>) │ (<span style=\"color: #00d7ff; text-decoration-color: #00d7ff\">None</span>, <span style=\"color: #00af00; text-decoration-color: #00af00\">64</span>)        │          <span style=\"color: #00af00; text-decoration-color: #00af00\">0</span> │ batch_normalizat… │\n├─────────────────────┼───────────────────┼────────────┼───────────────────┤\n│ concatenate_1       │ (<span style=\"color: #00d7ff; text-decoration-color: #00d7ff\">None</span>, <span style=\"color: #00af00; text-decoration-color: #00af00\">320</span>)       │          <span style=\"color: #00af00; text-decoration-color: #00af00\">0</span> │ dropout_4[<span style=\"color: #00af00; text-decoration-color: #00af00\">0</span>][<span style=\"color: #00af00; text-decoration-color: #00af00\">0</span>],  │\n│ (<span style=\"color: #0087ff; text-decoration-color: #0087ff\">Concatenate</span>)       │                   │            │ dropout_6[<span style=\"color: #00af00; text-decoration-color: #00af00\">0</span>][<span style=\"color: #00af00; text-decoration-color: #00af00\">0</span>]   │\n├─────────────────────┼───────────────────┼────────────┼───────────────────┤\n│ dense_8 (<span style=\"color: #0087ff; text-decoration-color: #0087ff\">Dense</span>)     │ (<span style=\"color: #00d7ff; text-decoration-color: #00d7ff\">None</span>, <span style=\"color: #00af00; text-decoration-color: #00af00\">128</span>)       │     <span style=\"color: #00af00; text-decoration-color: #00af00\">41,088</span> │ concatenate_1[<span style=\"color: #00af00; text-decoration-color: #00af00\">0</span>]… │\n├─────────────────────┼───────────────────┼────────────┼───────────────────┤\n│ batch_normalizatio… │ (<span style=\"color: #00d7ff; text-decoration-color: #00d7ff\">None</span>, <span style=\"color: #00af00; text-decoration-color: #00af00\">128</span>)       │        <span style=\"color: #00af00; text-decoration-color: #00af00\">512</span> │ dense_8[<span style=\"color: #00af00; text-decoration-color: #00af00\">0</span>][<span style=\"color: #00af00; text-decoration-color: #00af00\">0</span>]     │\n│ (<span style=\"color: #0087ff; text-decoration-color: #0087ff\">BatchNormalizatio…</span> │                   │            │                   │\n├─────────────────────┼───────────────────┼────────────┼───────────────────┤\n│ dropout_7 (<span style=\"color: #0087ff; text-decoration-color: #0087ff\">Dropout</span>) │ (<span style=\"color: #00d7ff; text-decoration-color: #00d7ff\">None</span>, <span style=\"color: #00af00; text-decoration-color: #00af00\">128</span>)       │          <span style=\"color: #00af00; text-decoration-color: #00af00\">0</span> │ batch_normalizat… │\n├─────────────────────┼───────────────────┼────────────┼───────────────────┤\n│ dense_9 (<span style=\"color: #0087ff; text-decoration-color: #0087ff\">Dense</span>)     │ (<span style=\"color: #00d7ff; text-decoration-color: #00d7ff\">None</span>, <span style=\"color: #00af00; text-decoration-color: #00af00\">5</span>)         │        <span style=\"color: #00af00; text-decoration-color: #00af00\">645</span> │ dropout_7[<span style=\"color: #00af00; text-decoration-color: #00af00\">0</span>][<span style=\"color: #00af00; text-decoration-color: #00af00\">0</span>]   │\n└─────────────────────┴───────────────────┴────────────┴───────────────────┘\n</pre>\n"
     },
     "metadata": {},
     "output_type": "display_data"
    },
    {
     "data": {
      "text/plain": "\u001B[1m Total params: \u001B[0m\u001B[38;5;34m2,639,621\u001B[0m (10.07 MB)\n",
      "text/html": "<pre style=\"white-space:pre;overflow-x:auto;line-height:normal;font-family:Menlo,'DejaVu Sans Mono',consolas,'Courier New',monospace\"><span style=\"font-weight: bold\"> Total params: </span><span style=\"color: #00af00; text-decoration-color: #00af00\">2,639,621</span> (10.07 MB)\n</pre>\n"
     },
     "metadata": {},
     "output_type": "display_data"
    },
    {
     "data": {
      "text/plain": "\u001B[1m Trainable params: \u001B[0m\u001B[38;5;34m380,997\u001B[0m (1.45 MB)\n",
      "text/html": "<pre style=\"white-space:pre;overflow-x:auto;line-height:normal;font-family:Menlo,'DejaVu Sans Mono',consolas,'Courier New',monospace\"><span style=\"font-weight: bold\"> Trainable params: </span><span style=\"color: #00af00; text-decoration-color: #00af00\">380,997</span> (1.45 MB)\n</pre>\n"
     },
     "metadata": {},
     "output_type": "display_data"
    },
    {
     "data": {
      "text/plain": "\u001B[1m Non-trainable params: \u001B[0m\u001B[38;5;34m2,258,624\u001B[0m (8.62 MB)\n",
      "text/html": "<pre style=\"white-space:pre;overflow-x:auto;line-height:normal;font-family:Menlo,'DejaVu Sans Mono',consolas,'Courier New',monospace\"><span style=\"font-weight: bold\"> Non-trainable params: </span><span style=\"color: #00af00; text-decoration-color: #00af00\">2,258,624</span> (8.62 MB)\n</pre>\n"
     },
     "metadata": {},
     "output_type": "display_data"
    }
   ],
   "source": [
    "# Create the model\n",
    "print(\"\\n[INFO] Creating mixed input model...\")\n",
    "num_classes = len(np.unique(y))\n",
    "meta_dim = X_meta_train.shape[1]\n",
    "mixed_model = create_mixed_input_model(meta_dim=meta_dim, num_classes=num_classes)\n",
    "\n",
    "# Print model summary\n",
    "mixed_model.summary()"
   ],
   "metadata": {
    "collapsed": false,
    "ExecuteTime": {
     "end_time": "2025-04-07T15:35:19.263230Z",
     "start_time": "2025-04-07T15:35:17.074159Z"
    }
   },
   "id": "362b315a8680c999",
   "execution_count": 42
  },
  {
   "cell_type": "code",
   "outputs": [
    {
     "name": "stdout",
     "output_type": "stream",
     "text": [
      "\n",
      "[INFO] Training model...\n",
      "Epoch 1/5\n",
      "\u001B[1m32/32\u001B[0m \u001B[32m━━━━━━━━━━━━━━━━━━━━\u001B[0m\u001B[37m\u001B[0m \u001B[1m0s\u001B[0m 872ms/step - accuracy: 0.2329 - loss: 2.4676\n",
      "Epoch 1: val_accuracy improved from -inf to 0.40500, saving model to skin_lesion_classifier.h5\n"
     ]
    },
    {
     "name": "stderr",
     "output_type": "stream",
     "text": [
      "WARNING:absl:You are saving your model as an HDF5 file via `model.save()` or `keras.saving.save_model(model)`. This file format is considered legacy. We recommend using instead the native Keras format, e.g. `model.save('my_model.keras')` or `keras.saving.save_model(model, 'my_model.keras')`. \n"
     ]
    },
    {
     "name": "stdout",
     "output_type": "stream",
     "text": [
      "\u001B[1m32/32\u001B[0m \u001B[32m━━━━━━━━━━━━━━━━━━━━\u001B[0m\u001B[37m\u001B[0m \u001B[1m42s\u001B[0m 1s/step - accuracy: 0.2338 - loss: 2.4624 - val_accuracy: 0.4050 - val_loss: 1.3714\n",
      "Epoch 2/5\n",
      "\u001B[1m32/32\u001B[0m \u001B[32m━━━━━━━━━━━━━━━━━━━━\u001B[0m\u001B[37m\u001B[0m \u001B[1m0s\u001B[0m 821ms/step - accuracy: 0.3778 - loss: 1.8678\n",
      "Epoch 2: val_accuracy improved from 0.40500 to 0.78500, saving model to skin_lesion_classifier.h5\n"
     ]
    },
    {
     "name": "stderr",
     "output_type": "stream",
     "text": [
      "WARNING:absl:You are saving your model as an HDF5 file via `model.save()` or `keras.saving.save_model(model)`. This file format is considered legacy. We recommend using instead the native Keras format, e.g. `model.save('my_model.keras')` or `keras.saving.save_model(model, 'my_model.keras')`. \n"
     ]
    },
    {
     "name": "stdout",
     "output_type": "stream",
     "text": [
      "\u001B[1m32/32\u001B[0m \u001B[32m━━━━━━━━━━━━━━━━━━━━\u001B[0m\u001B[37m\u001B[0m \u001B[1m32s\u001B[0m 1000ms/step - accuracy: 0.3782 - loss: 1.8662 - val_accuracy: 0.7850 - val_loss: 0.9319\n",
      "Epoch 3/5\n",
      "\u001B[1m32/32\u001B[0m \u001B[32m━━━━━━━━━━━━━━━━━━━━\u001B[0m\u001B[37m\u001B[0m \u001B[1m0s\u001B[0m 810ms/step - accuracy: 0.4870 - loss: 1.5274\n",
      "Epoch 3: val_accuracy improved from 0.78500 to 0.86000, saving model to skin_lesion_classifier.h5\n"
     ]
    },
    {
     "name": "stderr",
     "output_type": "stream",
     "text": [
      "WARNING:absl:You are saving your model as an HDF5 file via `model.save()` or `keras.saving.save_model(model)`. This file format is considered legacy. We recommend using instead the native Keras format, e.g. `model.save('my_model.keras')` or `keras.saving.save_model(model, 'my_model.keras')`. \n"
     ]
    },
    {
     "name": "stdout",
     "output_type": "stream",
     "text": [
      "\u001B[1m32/32\u001B[0m \u001B[32m━━━━━━━━━━━━━━━━━━━━\u001B[0m\u001B[37m\u001B[0m \u001B[1m32s\u001B[0m 998ms/step - accuracy: 0.4880 - loss: 1.5244 - val_accuracy: 0.8600 - val_loss: 0.6540\n",
      "Epoch 4/5\n",
      "\u001B[1m32/32\u001B[0m \u001B[32m━━━━━━━━━━━━━━━━━━━━\u001B[0m\u001B[37m\u001B[0m \u001B[1m0s\u001B[0m 835ms/step - accuracy: 0.5726 - loss: 1.2901\n",
      "Epoch 4: val_accuracy did not improve from 0.86000\n",
      "\u001B[1m32/32\u001B[0m \u001B[32m━━━━━━━━━━━━━━━━━━━━\u001B[0m\u001B[37m\u001B[0m \u001B[1m32s\u001B[0m 1s/step - accuracy: 0.5729 - loss: 1.2885 - val_accuracy: 0.8350 - val_loss: 0.6018\n",
      "Epoch 5/5\n",
      "\u001B[1m32/32\u001B[0m \u001B[32m━━━━━━━━━━━━━━━━━━━━\u001B[0m\u001B[37m\u001B[0m \u001B[1m0s\u001B[0m 886ms/step - accuracy: 0.6645 - loss: 1.0427\n",
      "Epoch 5: val_accuracy did not improve from 0.86000\n",
      "\u001B[1m32/32\u001B[0m \u001B[32m━━━━━━━━━━━━━━━━━━━━\u001B[0m\u001B[37m\u001B[0m \u001B[1m34s\u001B[0m 1s/step - accuracy: 0.6650 - loss: 1.0419 - val_accuracy: 0.8350 - val_loss: 0.5821\n",
      "Restoring model weights from the end of the best epoch: 3.\n"
     ]
    }
   ],
   "source": [
    "# Set up callbacks\n",
    "checkpoint = ModelCheckpoint(\n",
    "    'skin_lesion_classifier',\n",
    "    monitor='val_accuracy',\n",
    "    save_best_only=True,\n",
    "    mode='max',\n",
    "    verbose=1\n",
    ")\n",
    "\n",
    "early_stopping = EarlyStopping(\n",
    "    monitor='val_accuracy',\n",
    "    patience=10,\n",
    "    restore_best_weights=True,\n",
    "    verbose=1\n",
    ")\n",
    "\n",
    "# Train the model\n",
    "print(\"\\n[INFO] Training model...\")\n",
    "history = mixed_model.fit(\n",
    "    [X_img_train, X_meta_train], y_train,\n",
    "    validation_data=([X_img_test, X_meta_test], y_test),\n",
    "    batch_size=32,\n",
    "    epochs=5,\n",
    "    callbacks=[checkpoint, early_stopping]\n",
    ")"
   ],
   "metadata": {
    "collapsed": false,
    "ExecuteTime": {
     "end_time": "2025-04-07T15:38:12.102452Z",
     "start_time": "2025-04-07T15:35:19.276108Z"
    }
   },
   "id": "e5cc0350903a094d",
   "execution_count": 43
  },
  {
   "cell_type": "code",
   "outputs": [
    {
     "name": "stdout",
     "output_type": "stream",
     "text": [
      "\n",
      "[INFO] Evaluating model...\n",
      "\u001B[1m7/7\u001B[0m \u001B[32m━━━━━━━━━━━━━━━━━━━━\u001B[0m\u001B[37m\u001B[0m \u001B[1m7s\u001B[0m 999ms/step - accuracy: 0.8774 - loss: 0.6138\n",
      "Test Loss: 0.6540\n",
      "Test Accuracy: 0.8600\n"
     ]
    },
    {
     "data": {
      "text/plain": "<Figure size 1200x500 with 0 Axes>"
     },
     "execution_count": 45,
     "metadata": {},
     "output_type": "execute_result"
    },
    {
     "data": {
      "text/plain": "<Figure size 1200x500 with 0 Axes>"
     },
     "metadata": {},
     "output_type": "display_data"
    }
   ],
   "source": [
    "# Evaluate model\n",
    "print(\"\\n[INFO] Evaluating model...\")\n",
    "evaluation = mixed_model.evaluate([X_img_test, X_meta_test], y_test)\n",
    "print(f\"Test Loss: {evaluation[0]:.4f}\")\n",
    "print(f\"Test Accuracy: {evaluation[1]:.4f}\")\n",
    "\n",
    "# Plot training history\n",
    "plt.figure(figsize=(12, 5))"
   ],
   "metadata": {
    "collapsed": false,
    "ExecuteTime": {
     "end_time": "2025-04-07T15:38:49.903452Z",
     "start_time": "2025-04-07T15:38:43.216178Z"
    }
   },
   "id": "35b81b9e5fa01b6b",
   "execution_count": 45
  },
  {
   "cell_type": "code",
   "outputs": [
    {
     "data": {
      "text/plain": "<Figure size 640x480 with 2 Axes>",
      "image/png": "[encoded data removed]"
     },
     "metadata": {},
     "output_type": "display_data"
    }
   ],
   "source": [
    "# Plot accuracy\n",
    "plt.subplot(1, 2, 1)\n",
    "plt.plot(history.history['accuracy'], label='Training Accuracy')\n",
    "plt.plot(history.history['val_accuracy'], label='Validation Accuracy')\n",
    "plt.title('Model Accuracy')\n",
    "plt.xlabel('Epoch')\n",
    "plt.ylabel('Accuracy')\n",
    "plt.legend()\n",
    "\n",
    "# Plot loss\n",
    "plt.subplot(1, 2, 2)\n",
    "plt.plot(history.history['loss'], label='Training Loss')\n",
    "plt.plot(history.history['val_loss'], label='Validation Loss')\n",
    "plt.title('Model Loss')\n",
    "plt.xlabel('Epoch')\n",
    "plt.ylabel('Loss')\n",
    "plt.legend()\n",
    "\n",
    "plt.tight_layout()\n",
    "plt.savefig('training_history.png')\n",
    "plt.show()"
   ],
   "metadata": {
    "collapsed": false,
    "ExecuteTime": {
     "end_time": "2025-04-07T15:38:54.552484Z",
     "start_time": "2025-04-07T15:38:54.239127Z"
    }
   },
   "id": "19a7fa50a8d2e448",
   "execution_count": 46
  },
  {
   "cell_type": "code",
   "outputs": [
    {
     "name": "stdout",
     "output_type": "stream",
     "text": [
      "\n",
      "[INFO] Making predictions on test examples...\n",
      "\u001B[1m1/1\u001B[0m \u001B[32m━━━━━━━━━━━━━━━━━━━━\u001B[0m\u001B[37m\u001B[0m \u001B[1m1s\u001B[0m 719ms/step\n",
      "Example 1: True: Benign, Predicted: benign\n",
      "Example 2: True: Benign, Predicted: benign\n",
      "Example 3: True: Benign, Predicted: benign\n",
      "Example 4: True: Benign, Predicted: benign\n",
      "Example 5: True: Benign, Predicted: benign\n"
     ]
    }
   ],
   "source": [
    "# Make predictions on a few examples\n",
    "print(\"\\n[INFO] Making predictions on test examples...\")\n",
    "predictions = mixed_model.predict([X_img_test[:5], X_meta_test[:5]])\n",
    "\n",
    "# Display results\n",
    "for i in range(5):\n",
    "    true_label = \"Malignant\" if y_test[i] == 1 else \"Benign\"\n",
    "    if num_classes == 2:\n",
    "        pred_prob = predictions[i][0]\n",
    "        pred_label = \"Malignant\" if pred_prob > 0.5 else \"Benign\"\n",
    "        print(f\"Example {i+1}: True: {true_label}, Predicted: {pred_label} (Probability: {pred_prob:.4f})\")\n",
    "    else:\n",
    "        pred_class = np.argmax(predictions[i])\n",
    "        pred_label = label_encoder.inverse_transform([pred_class])[0]\n",
    "        print(f\"Example {i+1}: True: {true_label}, Predicted: {pred_label}\")"
   ],
   "metadata": {
    "collapsed": false,
    "ExecuteTime": {
     "end_time": "2025-04-07T16:06:21.817561Z",
     "start_time": "2025-04-07T16:06:20.988644Z"
    }
   },
   "id": "c538f6ab88385c4f",
   "execution_count": 47
  }
 ],
 "metadata": {
  "kernelspec": {
   "display_name": "Python 3",
   "language": "python",
   "name": "python3"
  },
  "language_info": {
   "codemirror_mode": {
    "name": "ipython",
    "version": 2
   },
   "file_extension": ".py",
   "mimetype": "text/x-python",
   "name": "python",
   "nbconvert_exporter": "python",
   "pygments_lexer": "ipython2",
   "version": "2.7.6"
  }
 },
 "nbformat": 4,
 "nbformat_minor": 5
}
